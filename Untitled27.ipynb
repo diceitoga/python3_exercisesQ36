{
 "cells": [
  {
   "cell_type": "code",
   "execution_count": null,
   "metadata": {},
   "outputs": [],
   "source": [
    "#http://www.practicepython.org/exercise/2017/02/28/35-birthday-months.html \n",
    "'''\n",
    "Exercise 35 (and Solution)\n",
    "\n",
    "This exercise is Part 3 of 4 of the birthday data exercise series. The other exercises are: Part 1, Part 2, and Part 4.\n",
    "\n",
    "In the previous exercise we saved information about famous scientists’ names and birthdays to disk. In this exercise, load that JSON file from disk, extract the months of all the birthdays, and count how many scientists have a birthday in each month.\n",
    "\n",
    "Your program should output something like:\n",
    "\n",
    "{\n",
    "\t\"May\": 3,\n",
    "\t\"November\": 2,\n",
    "\t\"December\": 1\n",
    "}\n",
    "\n",
    "Discussion\n",
    "\n",
    "You already have the skills to achieve this exercise with concepts we’ve already covered: for loops, dictionaries, and basic arithmetic. However, I want to talk about a Python built-in called a Counter.\n",
    "\n",
    "A Counter takes a list and counts how many of each element were in the list. To use the Counter, first import it from collections:\n",
    "\n",
    "from collections import Counter\n",
    "\n",
    "This lets you use the Counter data structure built into Python in your program. Then, give it a list:\n",
    "\n",
    "sandwiches = [\"ham\", \"cheese\", \"roast beef\", \"ham\", \"cheese\", \"roast beef\", \"ham\"]\n",
    "c = Counter(sandwiches)\n",
    "\n",
    "If you print(c), you will see this:\n",
    "\n",
    "Counter({\"ham\": 3, \"roast beef\": 2, \"cheese\": 2})\n",
    "\n",
    "This means there are 3 ham, 2 roast beef, and 2 cheese sandwiches in my list. I can get this information directly from the Counter:\n",
    "\n",
    ">>> print(\"There are {} ham sandwiches\".format(c[\"ham\"]))\n",
    "There are 3 ham sandwiches\n",
    "\n",
    "Hope this is useful!\n",
    "Happy coding!\n",
    "\n",
    "'''"
   ]
  }
 ],
 "metadata": {
  "kernelspec": {
   "display_name": "Python 3",
   "language": "python",
   "name": "python3"
  },
  "language_info": {
   "codemirror_mode": {
    "name": "ipython",
    "version": 3
   },
   "file_extension": ".py",
   "mimetype": "text/x-python",
   "name": "python",
   "nbconvert_exporter": "python",
   "pygments_lexer": "ipython3",
   "version": "3.7.0"
  }
 },
 "nbformat": 4,
 "nbformat_minor": 2
}
