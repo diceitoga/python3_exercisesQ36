{
 "cells": [
  {
   "cell_type": "code",
   "execution_count": null,
   "metadata": {},
   "outputs": [],
   "source": [
    "##Excercise 25: \n",
    "'''\n",
    "In a previous exercise, we’ve written a program that “knows” a number and asks a user to guess it.\n",
    "\n",
    "This time, we’re going to do exactly the opposite. \n",
    "You, the user, will have in your head a number between 0 and 100. \n",
    "The program will guess a number, and you, the user, will say whether it is too high, too low, or your number.\n",
    "\n",
    "At the end of this exchange, your program should print out how many guesses it took to get your number.\n",
    "\n",
    "As the writer of this program, you will have to choose how your program will strategically guess. \n",
    "A naive strategy can be to simply start the guessing at 1, \n",
    "and keep going (2, 3, 4, etc.) until you hit the number. \n",
    "But that’s not an optimal guessing strategy. \n",
    "An alternate strategy might be to guess 50 (right in the middle of the range), \n",
    "and then increase / decrease by 1 as needed. \n",
    "After you’ve written the program, try to find the optimal strategy! \n",
    "(We’ll talk about what is the optimal one next week with the solution.)\n",
    "\n",
    "'''"
   ]
  }
 ],
 "metadata": {
  "kernelspec": {
   "display_name": "Python 3",
   "language": "python",
   "name": "python3"
  },
  "language_info": {
   "codemirror_mode": {
    "name": "ipython",
    "version": 3
   },
   "file_extension": ".py",
   "mimetype": "text/x-python",
   "name": "python",
   "nbconvert_exporter": "python",
   "pygments_lexer": "ipython3",
   "version": "3.7.0"
  }
 },
 "nbformat": 4,
 "nbformat_minor": 2
}
