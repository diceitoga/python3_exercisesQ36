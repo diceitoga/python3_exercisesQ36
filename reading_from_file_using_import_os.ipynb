{
 "cells": [
  {
   "cell_type": "code",
   "execution_count": 4,
   "metadata": {},
   "outputs": [
    {
     "name": "stdout",
     "output_type": "stream",
     "text": [
      "C:\\Users\\dicei\\Documents\\Python3\\website_exercises\n",
      "\n"
     ]
    }
   ],
   "source": [
    "import os \n",
    "import numpy as np\n",
    "import json\n",
    "\n",
    "location_of_file ='C:\\\\Users\\\\dicei\\\\Documents\\\\Python3\\\\website_exercises'   ##you see how it is\\\\ instead of \\ \n",
    "print(location_of_file)\n",
    "file_name = 'birthdayJSON.json'\n",
    "with open(os.path.join(location_of_file) + '\\\\' + file_name) as f:\n",
    "    print(f.read())\n",
    "    #s = json.load(f)\n",
    "    #jason_data = json.load(f)\n",
    "    #datanp = np.asarray(data)\n",
    "    #print(datanp)\n"
   ]
  },
  {
   "cell_type": "code",
   "execution_count": null,
   "metadata": {},
   "outputs": [],
   "source": []
  }
 ],
 "metadata": {
  "kernelspec": {
   "display_name": "Python 3",
   "language": "python",
   "name": "python3"
  },
  "language_info": {
   "codemirror_mode": {
    "name": "ipython",
    "version": 3
   },
   "file_extension": ".py",
   "mimetype": "text/x-python",
   "name": "python",
   "nbconvert_exporter": "python",
   "pygments_lexer": "ipython3",
   "version": "3.7.0"
  }
 },
 "nbformat": 4,
 "nbformat_minor": 2
}
