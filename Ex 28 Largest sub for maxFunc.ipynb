{
 "cells": [
  {
   "cell_type": "code",
   "execution_count": 11,
   "metadata": {},
   "outputs": [
    {
     "name": "stdout",
     "output_type": "stream",
     "text": [
      "0\n"
     ]
    }
   ],
   "source": [
    "#Ex28: max of 3 numbers https://www.practicepython.org/exercise/2016/03/27/28-max-of-three.html\n",
    "\n",
    "def max_of_three(a,b,c):\n",
    "    \n",
    "    if a>b:\n",
    "        if a>c:\n",
    "            return a\n",
    "        elif a<c:\n",
    "            return c\n",
    "        else:\n",
    "            return a  # a==b==c\n",
    "    elif a<b:\n",
    "        if b>c:\n",
    "            return b\n",
    "        elif b<c:\n",
    "            return c\n",
    "        else:\n",
    "            return b  # a==b==c\n",
    "        \n",
    "#a,b,c = (1,2,3)\n",
    "#a,b,c = (122,345,290)\n",
    "#a,b,c = (-20, 20,20)\n",
    "#a,b,c = (2,3,76)\n",
    "#a,b,c = (-2,-5,-10)\n",
    "a,b,c = (-3,-13,0)\n",
    "\n",
    "\n",
    "highest = max_of_three(a,b,c)\n",
    "print(highest)\n",
    "        \n",
    "    "
   ]
  },
  {
   "cell_type": "code",
   "execution_count": null,
   "metadata": {},
   "outputs": [],
   "source": []
  }
 ],
 "metadata": {
  "kernelspec": {
   "display_name": "Python 3",
   "language": "python",
   "name": "python3"
  },
  "language_info": {
   "codemirror_mode": {
    "name": "ipython",
    "version": 3
   },
   "file_extension": ".py",
   "mimetype": "text/x-python",
   "name": "python",
   "nbconvert_exporter": "python",
   "pygments_lexer": "ipython3",
   "version": "3.7.0"
  }
 },
 "nbformat": 4,
 "nbformat_minor": 2
}
