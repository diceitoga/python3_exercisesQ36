{
 "cells": [
  {
   "cell_type": "code",
   "execution_count": null,
   "metadata": {},
   "outputs": [],
   "source": [
    "'''\n",
    "Ex 36 Plotting....Last exercise!! \n",
    " Birthday Plots\n",
    "Exercise 36 (and Solution)\n",
    "\n",
    "This exercise is Part 4 of 4 of the birthday data exercise series. \n",
    "The other exercises are: Part 1, Part 2, and Part 3.\n",
    "\n",
    "In the previous exercise we counted how many birthdays there are in each month in our dictionary of birthdays.\n",
    "\n",
    "In this exercise, use the bokeh Python library to plot a histogram of which months the scientists have birthdays in! \n",
    "Because it would take a long time for you to input the months of various scientists, \n",
    "you can use my scientist birthday JSON file. Just parse out the months\n",
    "(if you don’t know how, I suggest looking at the previous exercise or its solution) and draw your histogram.\n",
    "\n",
    "If you are using a purely web-based interface for coding, \n",
    "this exercise won’t work for you, since it requires installing the bokeh Python package. \n",
    "Now might be a good time to install Python on your own computer.\n",
    "\n",
    "'''\n",
    "\n"
   ]
  }
 ],
 "metadata": {
  "kernelspec": {
   "display_name": "Python 3",
   "language": "python",
   "name": "python3"
  },
  "language_info": {
   "codemirror_mode": {
    "name": "ipython",
    "version": 3
   },
   "file_extension": ".py",
   "mimetype": "text/x-python",
   "name": "python",
   "nbconvert_exporter": "python",
   "pygments_lexer": "ipython3",
   "version": "3.7.0"
  }
 },
 "nbformat": 4,
 "nbformat_minor": 2
}
