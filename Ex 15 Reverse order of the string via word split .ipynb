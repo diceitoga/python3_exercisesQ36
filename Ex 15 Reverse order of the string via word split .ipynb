{
 "cells": [
  {
   "cell_type": "code",
   "execution_count": 31,
   "metadata": {},
   "outputs": [
    {
     "name": "stdout",
     "output_type": "stream",
     "text": [
      "<class 'list'>\n",
      "['Michele', 'is', 'name', 'My']\n",
      "Michele is name My\n"
     ]
    }
   ],
   "source": [
    "#Excercise 15: Write a program (using functions!) that asks the user for a long string containing multiple words. \n",
    "#Print back to the user the same string, except with the words in backwards order. \n",
    "#For example, say I type the string:\n",
    "\n",
    "  #My name is Michele  =>   Michele is name My\n",
    "    \n",
    "def put_name_front(some_string):\n",
    "    some_string = some_string.split()\n",
    "    some_string\n",
    "    last = len(some_string)-1\n",
    "    some_string = some_string[::-1]\n",
    "    #print(some_string)\n",
    "    #print(last)\n",
    "    #last_item = some_string.pop()\n",
    "    #print(last_item)\n",
    "    \n",
    "    \n",
    "    #print(type(last_item))\n",
    "    print(type(some_string))\n",
    "    print(some_string)\n",
    "    \n",
    "    val = ' '.join(some_string)\n",
    "    print(val)\n",
    "    \n",
    "    \n",
    "    \n",
    "    \n",
    "    #new_list = last_item + some_string\n",
    "    #print(new_list)\n",
    "\n",
    "\n",
    "\n",
    "put_name_front(\"My name is Michele\")"
   ]
  },
  {
   "cell_type": "code",
   "execution_count": null,
   "metadata": {},
   "outputs": [],
   "source": []
  }
 ],
 "metadata": {
  "kernelspec": {
   "display_name": "Python 3",
   "language": "python",
   "name": "python3"
  },
  "language_info": {
   "codemirror_mode": {
    "name": "ipython",
    "version": 3
   },
   "file_extension": ".py",
   "mimetype": "text/x-python",
   "name": "python",
   "nbconvert_exporter": "python",
   "pygments_lexer": "ipython3",
   "version": "3.7.0"
  }
 },
 "nbformat": 4,
 "nbformat_minor": 2
}
