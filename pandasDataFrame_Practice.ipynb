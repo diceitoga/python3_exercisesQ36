{
 "cells": [
  {
   "cell_type": "code",
   "execution_count": 14,
   "metadata": {},
   "outputs": [
    {
     "data": {
      "text/plain": [
       "0        0.000000e+00\n",
       "1        0.000000e+00\n",
       "2        0.000000e+00\n",
       "3        0.000000e+00\n",
       "4        0.000000e+00\n",
       "5        0.000000e+00\n",
       "6        0.000000e+00\n",
       "7        0.000000e+00\n",
       "8        0.000000e+00\n",
       "9        0.000000e+00\n",
       "10       0.000000e+00\n",
       "11       0.000000e+00\n",
       "12       0.000000e+00\n",
       "13       0.000000e+00\n",
       "14       0.000000e+00\n",
       "15       0.000000e+00\n",
       "16       0.000000e+00\n",
       "17       7.558690e+01\n",
       "18       6.835900e+00\n",
       "19       0.000000e+00\n",
       "20       7.020000e-02\n",
       "21       0.000000e+00\n",
       "22       0.000000e+00\n",
       "23       0.000000e+00\n",
       "24       0.000000e+00\n",
       "25       2.139760e+01\n",
       "26       0.000000e+00\n",
       "27       7.169630e+01\n",
       "28      -3.647721e+09\n",
       "29       0.000000e+00\n",
       "             ...     \n",
       "28646    0.000000e+00\n",
       "28647    0.000000e+00\n",
       "28648    0.000000e+00\n",
       "28649    0.000000e+00\n",
       "28650    0.000000e+00\n",
       "28651    1.549909e+08\n",
       "28652    2.500176e+09\n",
       "28653    2.144775e+09\n",
       "28654    3.554010e+08\n",
       "28655    0.000000e+00\n",
       "28656    9.015362e+08\n",
       "28657    9.883926e+08\n",
       "28658    8.797210e+08\n",
       "28659    2.181522e+07\n",
       "28660    0.000000e+00\n",
       "28661    0.000000e+00\n",
       "28662    0.000000e+00\n",
       "28663    2.064732e+07\n",
       "28664    3.375550e+01\n",
       "28665    5.981000e+07\n",
       "28666    0.000000e+00\n",
       "28667    1.056381e+08\n",
       "28668    2.584931e+01\n",
       "28669    4.599132e+00\n",
       "28670    4.067313e+08\n",
       "28671    7.150965e-01\n",
       "28672    2.376680e+08\n",
       "28673    4.656460e+06\n",
       "28674    2.423245e+08\n",
       "28675    4.551646e+08\n",
       "Name: 2016, Length: 28676, dtype: float64"
      ]
     },
     "execution_count": 14,
     "metadata": {},
     "output_type": "execute_result"
    }
   ],
   "source": [
    "#Pandas DataFrame practice\n",
    "import pandas as pd\n",
    "import numpy as np\n",
    "\n",
    "df = pd.read_csv(\"IDSData.csv\")\n",
    "df.head()\n",
    "df.columns\n",
    "df['2016']\n",
    "\n",
    "\n",
    "\n"
   ]
  },
  {
   "cell_type": "code",
   "execution_count": 17,
   "metadata": {},
   "outputs": [
    {
     "data": {
      "text/plain": [
       "pandas.core.series.Series"
      ]
     },
     "execution_count": 17,
     "metadata": {},
     "output_type": "execute_result"
    }
   ],
   "source": [
    "type(df['2016'])"
   ]
  },
  {
   "cell_type": "code",
   "execution_count": null,
   "metadata": {},
   "outputs": [],
   "source": []
  }
 ],
 "metadata": {
  "kernelspec": {
   "display_name": "Python 3",
   "language": "python",
   "name": "python3"
  },
  "language_info": {
   "codemirror_mode": {
    "name": "ipython",
    "version": 3
   },
   "file_extension": ".py",
   "mimetype": "text/x-python",
   "name": "python",
   "nbconvert_exporter": "python",
   "pygments_lexer": "ipython3",
   "version": "3.7.0"
  }
 },
 "nbformat": 4,
 "nbformat_minor": 2
}
