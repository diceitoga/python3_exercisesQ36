{
 "cells": [
  {
   "cell_type": "code",
   "execution_count": null,
   "metadata": {},
   "outputs": [],
   "source": [
    "#Excercise 22 Reading from a file and counting frequencies\n",
    "#Given a .txt file that has a list of a bunch of names, count how many of each name there are in the file, and print out the results to the screen. \n",
    "#I have a .txt file for you, if you want to use it!\n",
    "#https://www.practicepython.org/exercise/2014/12/06/22-read-from-file.html\n",
    "\n",
    "'''\n",
    "Steps: \n",
    "\n",
    "   Step1:  Opening the file for reading\n",
    "   Step2:  Read!\n",
    "   Sample code: \n",
    "    with open('file_to_read.txt', 'r') as open_file:\n",
    "        all_text = open_file.read()\n",
    "'''\n",
    "\n",
    "with open('Darth_luke.txt','r') as open_file:\n",
    "    chopping_table = open_file.read()"
   ]
  }
 ],
 "metadata": {
  "kernelspec": {
   "display_name": "Python 3",
   "language": "python",
   "name": "python3"
  },
  "language_info": {
   "codemirror_mode": {
    "name": "ipython",
    "version": 3
   },
   "file_extension": ".py",
   "mimetype": "text/x-python",
   "name": "python",
   "nbconvert_exporter": "python",
   "pygments_lexer": "ipython3",
   "version": "3.7.0"
  }
 },
 "nbformat": 4,
 "nbformat_minor": 2
}
