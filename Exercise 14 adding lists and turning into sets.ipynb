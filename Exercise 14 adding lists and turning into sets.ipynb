{
 "cells": [
  {
   "cell_type": "code",
   "execution_count": 11,
   "metadata": {},
   "outputs": [
    {
     "name": "stdout",
     "output_type": "stream",
     "text": [
      "[1, 2, 4, 6, 8, 8, 9, 9, 11, 14, 14, 15, 16, 18, 2, 3, 3, 4, 5, 5, 5, 6, 8, 9, 11, 12, 14, 15, 15, 16, 17, 19, 19]\n",
      "{1, 2, 3, 4, 5, 6, 8, 9, 11, 12, 14, 15, 16, 17, 18, 19}\n"
     ]
    }
   ],
   "source": [
    "## Exercise 14: https://www.practicepython.org/exercises/ \n",
    "#Write a program (function!) that takes a list and returns a new list that contains all the elements of the first list \n",
    "#minus all the duplicates.\n",
    "\n",
    "#Extras:\n",
    "\n",
    "    #Write two different functions to do this - one using a loop and constructing a list, and another using sets.\n",
    "    #Go back and do Exercise 5 using sets, and write the solution for that in a different function.\n",
    "    \n",
    "    \n",
    "a = [1,2,4,6,8,8,9,9,11,14,14,15,16,18]\n",
    "b = [2,3,3,4,5,5,5,6,8,9,11,12,14,15,15,16,17,19,19]\n",
    "c = a+b\n",
    "c=set(c)\n",
    "print(c)\n",
    "\n",
    "#a = set(a)\n",
    "#print(a)\n",
    "#b = set(b)\n",
    "#print(b)\n",
    "\n",
    "#c = [element for element in a if element in b]\n",
    "\n",
    "#item for item in a if item not in b\n",
    "#b = [element for element in a if element % 2 == 0]\n",
    "#element for elemnet in a if element not in b\n",
    "\n",
    "\n"
   ]
  },
  {
   "cell_type": "code",
   "execution_count": null,
   "metadata": {},
   "outputs": [],
   "source": []
  }
 ],
 "metadata": {
  "kernelspec": {
   "display_name": "Python 3",
   "language": "python",
   "name": "python3"
  },
  "language_info": {
   "codemirror_mode": {
    "name": "ipython",
    "version": 3
   },
   "file_extension": ".py",
   "mimetype": "text/x-python",
   "name": "python",
   "nbconvert_exporter": "python",
   "pygments_lexer": "ipython3",
   "version": "3.7.0"
  }
 },
 "nbformat": 4,
 "nbformat_minor": 2
}
