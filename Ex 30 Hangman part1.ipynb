{
 "cells": [
  {
   "cell_type": "code",
   "execution_count": 6,
   "metadata": {},
   "outputs": [
    {
     "name": "stderr",
     "output_type": "stream",
     "text": [
      "IOPub data rate exceeded.\n",
      "The notebook server will temporarily stop sending output\n",
      "to the client in order to avoid crashing it.\n",
      "To change this limit, set the config variable\n",
      "`--NotebookApp.iopub_data_rate_limit`.\n",
      "\n",
      "Current values:\n",
      "NotebookApp.iopub_data_rate_limit=1000000.0 (bytes/sec)\n",
      "NotebookApp.rate_limit_window=3.0 (secs)\n",
      "\n"
     ]
    }
   ],
   "source": [
    "#Exercise 30: https://www.practicepython.org/exercise/2016/09/24/30-pick-word.html\n",
    "'''\n",
    "This exercise is Part 1 of 3 of the Hangman exercise series. \n",
    "The other exercises are: Part 2 and Part 3.\n",
    "\n",
    "In this exercise, the task is to write a function that picks a random word from a list of words \n",
    "from the SOWPODS dictionary. Download this file and save it \n",
    "in the same directory as your Python code. \n",
    "This file is Peter Norvig’s compilation of the dictionary of words used in professional Scrabble tournaments. \n",
    "Each line in the file contains a single word.\n",
    "\n",
    "Hint: use the Python random library for picking a random word.\n",
    "\n",
    "SOWPODS is a word list commonly used in word puzzles and games (like Scrabble for example). \n",
    "It is the combination of the Scrabble Player’s Dictionary and the Chamber’s Dictionary.\n",
    "(The history of SOWPODS is quite interesting, I highly recommend reading the Wikipedia article if you are curious.)\n",
    "'''\n",
    "\n",
    "def pick_rand_word():\n",
    "     with open('word_dictionary.txt', 'r') as open_file:\n",
    "        all_text = open_file.read()   ##open_file.readlines() runs into timeout.\n",
    "        print(type(all_text))    ##class 'str'\n",
    "        split_text = all_text.split(' ')\n",
    "        print(split_text)\n",
    "        #text_count = count(all_text)\n",
    "        #print(all_text)\n",
    "        #text_count = len(all_text)\n",
    "\n",
    "\n",
    "##########################################################################################\n",
    "\n",
    "pick_rand_word()"
   ]
  },
  {
   "cell_type": "code",
   "execution_count": null,
   "metadata": {},
   "outputs": [],
   "source": []
  }
 ],
 "metadata": {
  "kernelspec": {
   "display_name": "Python 3",
   "language": "python",
   "name": "python3"
  },
  "language_info": {
   "codemirror_mode": {
    "name": "ipython",
    "version": 3
   },
   "file_extension": ".py",
   "mimetype": "text/x-python",
   "name": "python",
   "nbconvert_exporter": "python",
   "pygments_lexer": "ipython3",
   "version": "3.7.0"
  }
 },
 "nbformat": 4,
 "nbformat_minor": 2
}
