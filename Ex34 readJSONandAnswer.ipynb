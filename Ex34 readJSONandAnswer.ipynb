{
 "cells": [
  {
   "cell_type": "code",
   "execution_count": 6,
   "metadata": {},
   "outputs": [
    {
     "name": "stdout",
     "output_type": "stream",
     "text": [
      "{'Birthdays': [{'birthday': 'Jan 1st, 1900', 'name': 'DItoga'},\n",
      "               {'birthday': 'March 14, 1879', 'name': 'Albert Einstein'},\n",
      "               {'birthday': 'January 17, 1706', 'name': 'Benjamin Franklin'},\n",
      "               {'birthday': 'February 12, 1809', 'name': 'Abraham Lincoln'},\n",
      "               {'birthday': 'June 12th, 1924', 'name': 'George HW Scherff'}]}\n",
      "<class 'str'>\n",
      "                                           Birthdays\n",
      "0    {'name': 'DItoga', 'birthday': 'Jan 1st, 1900'}\n",
      "1  {'name': 'Albert Einstein', 'birthday': 'March...\n",
      "2  {'name': 'Benjamin Franklin', 'birthday': 'Jan...\n",
      "3  {'name': 'Abraham Lincoln', 'birthday': 'Febru...\n",
      "4  {'name': 'George HW Scherff', 'birthday': 'Jun...\n",
      "DItoga\n",
      "Jan 1st, 1900\n",
      "List of people you can choose from: \n",
      "['DItoga', 'Albert Einstein', 'Benjamin Franklin', 'Abraham Lincoln', 'George HW Scherff']\n",
      "['Jan 1st, 1900', 'March 14, 1879', 'January 17, 1706', 'February 12, 1809', 'June 12th, 1924']\n",
      "<class 'list'>\n",
      "['DItoga' 'Albert Einstein' 'Benjamin Franklin' 'Abraham Lincoln'\n",
      " 'George HW Scherff']\n",
      "<class 'numpy.ndarray'>\n",
      "   index\n",
      "0      1\n",
      "1      2\n",
      "2      3\n",
      "3      4\n",
      "4      5\n",
      "               names\n",
      "0             DItoga\n",
      "1    Albert Einstein\n",
      "2  Benjamin Franklin\n",
      "3    Abraham Lincoln\n",
      "4  George HW Scherff\n",
      "            birthday\n",
      "0      Jan 1st, 1900\n",
      "1     March 14, 1879\n",
      "2   January 17, 1706\n",
      "3  February 12, 1809\n",
      "4    June 12th, 1924\n",
      "               names           birthday\n",
      "0             DItoga      Jan 1st, 1900\n",
      "1    Albert Einstein     March 14, 1879\n",
      "2  Benjamin Franklin   January 17, 1706\n",
      "3    Abraham Lincoln  February 12, 1809\n",
      "4  George HW Scherff    June 12th, 1924\n",
      "RangeIndex(start=0, stop=5, step=1)\n",
      "This is the shape of the dataframe: (5, 2)\n",
      "Jan 1st, 1900\n",
      "Welcome to the birthday dictionary. We know the birthdays of:\n",
      "               names\n",
      "0             DItoga\n",
      "1    Albert Einstein\n",
      "2  Benjamin Franklin\n",
      "3    Abraham Lincoln\n",
      "4  George HW Scherff\n",
      "Please input an index next to the name to find out the birthday: 1\n",
      "<class 'int'>\n",
      "You have selected: Albert Einstein\n",
      "The birtyday is: March 14, 1879\n",
      "Please input a name of a famous person to add: John Lennon \n",
      "You have inputted: John Lennon \n",
      "Please input birthday of the person above: Oct 9 1940\n",
      "You have inputted: Oct 9 1940\n",
      "<class 'str'>\n",
      "names       John Lennon \n",
      "birthday      Oct 9 1940\n",
      "dtype: object\n",
      "names       John Lennon \n",
      "birthday      Oct 9 1940\n",
      "dtype: object\n",
      "               names           birthday\n",
      "0             DItoga      Jan 1st, 1900\n",
      "1    Albert Einstein     March 14, 1879\n",
      "2  Benjamin Franklin   January 17, 1706\n",
      "3    Abraham Lincoln  February 12, 1809\n",
      "4  George HW Scherff    June 12th, 1924\n",
      "5       John Lennon          Oct 9 1940\n",
      "Do you want to add more? (type: Y/N): y\n",
      "y\n",
      "Please input a name of a famous person to add: Mike Pence\n",
      "You have inputted: Mike Pence\n",
      "Please input birthday of the person above: June 7, 1959\n",
      "You have inputted: June 7, 1959\n",
      "<class 'str'>\n",
      "names         Mike Pence\n",
      "birthday    June 7, 1959\n",
      "dtype: object\n",
      "names         Mike Pence\n",
      "birthday    June 7, 1959\n",
      "dtype: object\n",
      "               names           birthday\n",
      "0             DItoga      Jan 1st, 1900\n",
      "1    Albert Einstein     March 14, 1879\n",
      "2  Benjamin Franklin   January 17, 1706\n",
      "3    Abraham Lincoln  February 12, 1809\n",
      "4  George HW Scherff    June 12th, 1924\n",
      "5       John Lennon          Oct 9 1940\n",
      "6         Mike Pence       June 7, 1959\n",
      "Do you want to add more? (type: Y/N): n\n",
      "n\n"
     ]
    },
    {
     "data": {
      "text/plain": [
       "'\\nhttps://eulertech.wordpress.com/2017/11/28/pandas-valueerror-if-using-all-scalar-values-you-must-pass-an-index/\\nThen, to save your dictionary to disk you need to open a file and use the json.dump() method.\\nRemember to use the w flag when opening a file for writing:\\n\\nwith open(\"info.json\", \"w\") as f:\\n    json.dump(info_about_me, f)\\n'"
      ]
     },
     "execution_count": 6,
     "metadata": {},
     "output_type": "execute_result"
    }
   ],
   "source": [
    "'''\n",
    "http://www.practicepython.org/exercise/2017/02/06/34-birthday-json.html\n",
    ">>> Welcome to the birthday dictionary. We know the birthdays of:\n",
    "Albert Einstein\n",
    "Benjamin Franklin\n",
    "Ada Lovelace\n",
    ">>> Who's birthday do you want to look up?\n",
    "Benjamin Franklin\n",
    ">>> Benjamin Franklin's birthday is 01/17/1706.\n",
    "Make the data into JSON instead\n",
    "\n",
    "'''\n",
    "import pandas as pd\n",
    "import json\n",
    "import numpy as np\n",
    "from pprint import pprint\n",
    "\n",
    "\n",
    "#arr = np.array([])\n",
    "name_list = []\n",
    "birthday_list = []\n",
    "add_recrod = {}\n",
    "with open(\"birthdayJSON.json\", \"r\") as f:\n",
    "    birthdayDB = json.load(f)\n",
    "    pprint(birthdayDB)\n",
    "    #print(birthdayDB['Birthdays'][0]['name'])\n",
    "    print(type(birthdayDB['Birthdays'][0]['name']))\n",
    "\n",
    "    df = pd.DataFrame(birthdayDB)            #using panda DataFrame here. \n",
    "    print(df)\n",
    "    #print(df[\"Birthdays\"][0][['name','birthday']])\n",
    "    #print(df[\"Birthdays\"])\n",
    "    print(df[\"Birthdays\"][0]['name'])\n",
    "    print(df[\"Birthdays\"][0]['birthday'])\n",
    "    \n",
    "    #print(df[\"Birthdays\"][1]['name'])\n",
    "    loop = len(df[\"Birthdays\"])\n",
    "    print(\"List of people you can choose from: \")\n",
    "    for i in range(0,loop):\n",
    "        #print(df[\"Birthdays\"][i]['name'])\n",
    "        name_data = df[\"Birthdays\"][i]['name']  ##this works\n",
    "        birthday_data = df[\"Birthdays\"][i]['birthday']\n",
    "        #np.insert(arr,name_data)\n",
    "        name_list.append(name_data)\n",
    "        birthday_list.append(birthday_data)\n",
    "        \n",
    "        \n",
    "    print(name_list)\n",
    "    print(birthday_list)\n",
    "    print(type(name_list))\n",
    "    name_array = np.asarray(name_list)\n",
    "    birthday_array = np.asarray(birthday_list)\n",
    "    print(name_array)\n",
    "    print(type(name_array))\n",
    "    index_df = pd.DataFrame({'index':[1,2,3,4,5]})\n",
    "    \n",
    "    name_df = pd.DataFrame({'names':name_array})\n",
    "    birthday_df = pd.DataFrame({'birthday':birthday_array})\n",
    "    print(index_df)\n",
    "    print(name_df)\n",
    "    print(birthday_df)\n",
    "    testing_df = pd.concat([name_df, birthday_df], sort=False, axis=1)\n",
    "    print(testing_df)\n",
    "    print(testing_df.index)\n",
    "    print(f'This is the shape of the dataframe: {testing_df.shape}')\n",
    "    print(testing_df.loc[0, \"birthday\"])\n",
    "    #print(testing_df[0])\n",
    "    #name_df = pd.append(index_df)\n",
    "    #we are going to use pd.concat()function to join the dataframes\n",
    "    #There are 3 Dataframes here: 1. index_df, 2. name_df \n",
    "    #index is for Identification, alignment and selection\n",
    "    #pd.DataFrame(index = ['pbp'], columns = ['a','b'], dtype = np.dtype([('str','float')])) \n",
    "    df_empty = pd.DataFrame(['name', 'birthday'])\n",
    "    \n",
    "    \n",
    "    #import numpy as np\n",
    "    #myarray = np.asarray(mylist)\n",
    "        \n",
    "    #  numpy.insert(arr, obj, values, axis=None)[source]\n",
    "########################################################################################\n",
    "print(\"Welcome to the birthday dictionary. We know the birthdays of:\")\n",
    "print(name_df)\n",
    "input_num = int(input(\"Please input an index next to the name to find out the birthday: \"))\n",
    "print(type(input_num))\n",
    "selected = testing_df.loc[input_num, 'names']\n",
    "ans_record = testing_df.loc[input_num, 'birthday']\n",
    "print(f'You have selected: {selected}')\n",
    "print(f'The birtyday is: {ans_record}')\n",
    "\n",
    "while True:\n",
    "    additional_name = str(input(\"Please input a name of a famous person to add: \"))\n",
    "    print(f'You have inputted: {additional_name}')\n",
    "    additional_birthday = input(\"Please input birthday of the person above: \")\n",
    "    print(f'You have inputted: {additional_birthday}')\n",
    "\n",
    "    print(type(additional_birthday))\n",
    "    #Store this as series or pd.series() instead...\n",
    "    #add_series = pd.Series({'name':[additional_name], 'birthday':[additional_birthday]})\n",
    "    add_series = pd.Series([additional_name, additional_birthday], index=['names','birthday'])\n",
    "\n",
    "    print(add_series)    #additional_record\n",
    "    pprint(add_series)\n",
    "    testing_df = testing_df.append(add_series, ignore_index = True)    ##here is the changed line\n",
    "    pprint(testing_df)\n",
    "    \n",
    "    more_data = input(\"Do you want to add more? (type: Y/N): \")\n",
    "    more_data = more_data.lower()\n",
    "    print(more_data)\n",
    "    if more_data == 'y':\n",
    "        continue\n",
    "    else: \n",
    "        break\n",
    "testing_df.to_json('modified_names.json')\n",
    "        \n",
    "#pd.concat([testing_df, add_series], axis =0)\n",
    "\n",
    "\n",
    "'''\n",
    "https://eulertech.wordpress.com/2017/11/28/pandas-valueerror-if-using-all-scalar-values-you-must-pass-an-index/\n",
    "Then, to save your dictionary to disk you need to open a file and use the json.dump() method.\n",
    "Remember to use the w flag when opening a file for writing:\n",
    "\n",
    "with open(\"info.json\", \"w\") as f:\n",
    "    json.dump(info_about_me, f)\n",
    "'''\n"
   ]
  },
  {
   "cell_type": "code",
   "execution_count": 33,
   "metadata": {},
   "outputs": [
    {
     "name": "stdout",
     "output_type": "stream",
     "text": [
      "Requirement already satisfied: pandas in c:\\users\\dicei\\appdata\\local\\programs\\python\\python37-32\\lib\\site-packages (0.23.4)\n",
      "Requirement already satisfied: numpy>=1.9.0 in c:\\users\\dicei\\appdata\\local\\programs\\python\\python37-32\\lib\\site-packages (from pandas) (1.15.4)\n",
      "Requirement already satisfied: pytz>=2011k in c:\\users\\dicei\\appdata\\local\\programs\\python\\python37-32\\lib\\site-packages (from pandas) (2018.7)\n",
      "Requirement already satisfied: python-dateutil>=2.5.0 in c:\\users\\dicei\\appdata\\local\\programs\\python\\python37-32\\lib\\site-packages (from pandas) (2.7.3)\n",
      "Requirement already satisfied: six>=1.5 in c:\\users\\dicei\\appdata\\local\\programs\\python\\python37-32\\lib\\site-packages (from python-dateutil>=2.5.0->pandas) (1.11.0)\n",
      "Requirement already satisfied: numpy in c:\\users\\dicei\\appdata\\local\\programs\\python\\python37-32\\lib\\site-packages (1.15.4)\n"
     ]
    }
   ],
   "source": [
    "!pip install pandas\n",
    "!pip install numpy"
   ]
  },
  {
   "cell_type": "code",
   "execution_count": 9,
   "metadata": {},
   "outputs": [
    {
     "data": {
      "text/plain": [
       "array([[[ 0,  1,  2,  3],\n",
       "        [ 4,  5,  6,  7],\n",
       "        [ 8,  9, 10, 11]],\n",
       "\n",
       "       [[12, 13, 14, 15],\n",
       "        [16, 17, 18, 19],\n",
       "        [20, 21, 22, 23]]])"
      ]
     },
     "execution_count": 9,
     "metadata": {},
     "output_type": "execute_result"
    }
   ],
   "source": [
    "a = np.array(np.arange(24)).reshape(2,3,4)\n",
    "a\n"
   ]
  },
  {
   "cell_type": "code",
   "execution_count": 10,
   "metadata": {},
   "outputs": [],
   "source": [
    "c = np.array(np.arange(36).reshape(6,6))"
   ]
  },
  {
   "cell_type": "code",
   "execution_count": 11,
   "metadata": {},
   "outputs": [
    {
     "data": {
      "text/plain": [
       "array([[ 0,  1,  2,  3,  4,  5],\n",
       "       [ 6,  7,  8,  9, 10, 11],\n",
       "       [12, 13, 14, 15, 16, 17],\n",
       "       [18, 19, 20, 21, 22, 23],\n",
       "       [24, 25, 26, 27, 28, 29],\n",
       "       [30, 31, 32, 33, 34, 35]])"
      ]
     },
     "execution_count": 11,
     "metadata": {},
     "output_type": "execute_result"
    }
   ],
   "source": [
    "c\n"
   ]
  },
  {
   "cell_type": "code",
   "execution_count": 12,
   "metadata": {},
   "outputs": [],
   "source": [
    "b = np.append(c, [0,1,2,3,4,5])"
   ]
  },
  {
   "cell_type": "code",
   "execution_count": 13,
   "metadata": {},
   "outputs": [
    {
     "data": {
      "text/plain": [
       "array([ 0,  1,  2,  3,  4,  5,  6,  7,  8,  9, 10, 11, 12, 13, 14, 15, 16,\n",
       "       17, 18, 19, 20, 21, 22, 23, 24, 25, 26, 27, 28, 29, 30, 31, 32, 33,\n",
       "       34, 35,  0,  1,  2,  3,  4,  5])"
      ]
     },
     "execution_count": 13,
     "metadata": {},
     "output_type": "execute_result"
    }
   ],
   "source": [
    "b"
   ]
  },
  {
   "cell_type": "code",
   "execution_count": 14,
   "metadata": {},
   "outputs": [
    {
     "data": {
      "text/plain": [
       "array([0.00000000e+000, 0.00000000e+000, 0.00000000e+000, 7.50979782e-321,\n",
       "       3.97476069e-304])"
      ]
     },
     "execution_count": 14,
     "metadata": {},
     "output_type": "execute_result"
    }
   ],
   "source": [
    "x = np.empty(5)\n",
    "x    #this is dynamic....not 0 because it is not initialized"
   ]
  },
  {
   "cell_type": "code",
   "execution_count": 16,
   "metadata": {},
   "outputs": [
    {
     "data": {
      "text/plain": [
       "array([[2.16332808e-304, 9.15951656e-304, 2.85809440e-288],\n",
       "       [2.86361669e-302, 1.99025274e-290, 4.70531138e-271]])"
      ]
     },
     "execution_count": 16,
     "metadata": {},
     "output_type": "execute_result"
    }
   ],
   "source": [
    "y = np.empty([2,3])\n",
    "y"
   ]
  },
  {
   "cell_type": "code",
   "execution_count": 7,
   "metadata": {},
   "outputs": [
    {
     "name": "stdout",
     "output_type": "stream",
     "text": [
      "{'Birthdays': [{'birthday': 'Jan 1st, 1900', 'name': 'DItoga'},\n",
      "               {'birthday': 'March 14, 1879', 'name': 'Albert Einstein'},\n",
      "               {'birthday': 'January 17, 1706', 'name': 'Benjamin Franklin'},\n",
      "               {'birthday': 'February 12, 1809', 'name': 'Abraham Lincoln'},\n",
      "               {'birthday': 'June 12th, 1924', 'name': 'George HW Scherff'}]}\n"
     ]
    }
   ],
   "source": [
    "import pandas as pd\n",
    "import numpy as np\n",
    "import json\n",
    "from pprint import pprint \n",
    "with open(\"birthdayJSON.json\", \"r\") as f:\n",
    "    birthdayDB = json.load(f)\n",
    "    #print(birthdayDB)\n",
    "    pprint(birthdayDB)\n",
    "    \n",
    "    \n",
    "    "
   ]
  },
  {
   "cell_type": "code",
   "execution_count": 4,
   "metadata": {},
   "outputs": [
    {
     "name": "stdout",
     "output_type": "stream",
     "text": [
      "London      10\n",
      "Tripoli    100\n",
      "Cairo       10\n",
      "dtype: int64\n"
     ]
    }
   ],
   "source": [
    "import pandas as pd\n",
    "from pprint import pprint\n",
    "\n",
    "my_series = pd.Series({'London':10, 'Tripoli':100, 'Cairo':10})\n",
    "pprint(my_series)"
   ]
  },
  {
   "cell_type": "code",
   "execution_count": null,
   "metadata": {},
   "outputs": [],
   "source": [
    "#  Pandas support various IO types so it is going to be easy\n",
    "#https://www.youtube.com/watch?v=9Z7wvippeko&index=3&list=PLQVvvaa0QuDc-3szzjeP6N6b0aDrrKyL-\n",
    "#www.quandl.com    for data\n",
    "#http://pandas.pydata.org/pandas-docs/stable/io.html\n"
   ]
  }
 ],
 "metadata": {
  "kernelspec": {
   "display_name": "Python 3",
   "language": "python",
   "name": "python3"
  },
  "language_info": {
   "codemirror_mode": {
    "name": "ipython",
    "version": 3
   },
   "file_extension": ".py",
   "mimetype": "text/x-python",
   "name": "python",
   "nbconvert_exporter": "python",
   "pygments_lexer": "ipython3",
   "version": "3.7.0"
  }
 },
 "nbformat": 4,
 "nbformat_minor": 2
}
