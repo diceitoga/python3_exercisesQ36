{
 "cells": [
  {
   "cell_type": "code",
   "execution_count": 12,
   "metadata": {},
   "outputs": [
    {
     "name": "stdout",
     "output_type": "stream",
     "text": [
      "4\n",
      "Guess a number between  1~9 and I will tell you if you have it right6\n",
      "Too high, try again!\n",
      "Guess a number between  1~9 and I will tell you if you have it right5\n",
      "Too high, try again!\n",
      "Guess a number between  1~9 and I will tell you if you have it right4\n",
      "You got the right number of: 4\n",
      "You are a greatest winner! Like some kind of mind reader or something! Consider yourself devine! Goodbye!!\n"
     ]
    }
   ],
   "source": [
    "#Exercise 9: https://www.practicepython.org/exercise/2014/04/02/09-guessing-game-one.html\n",
    "#Generate a random number between 1 and 9 (including 1 and 9). Ask the user to guess the number, \n",
    "#then tell them whether they guessed too low, too high, or exactly right. \n",
    "#(Hint: remember to use the user input lessons from the very first exercise)\n",
    "#Keep the game going until the user types “exit”\n",
    "#Keep track of how many guesses the user has taken, and when the game ends, print this out.\n",
    "import random\n",
    "\n",
    "rand_value = random.randint(1,10)\n",
    "print(rand_value)\n",
    "\n",
    "while True:\n",
    "    try:\n",
    "        chosen_int = int(input(\"Guess a number between  1~9 and I will tell you if you have it right\"))\n",
    "        if chosen_int==rand_value:\n",
    "            print(\"You got the right number of: {}\".format(chosen_int))\n",
    "            print(\"You are a greatest winner! Like some kind of mind reader or something! Consider yourself devine! Goodbye!!\")\n",
    "            break\n",
    "        elif chosen_int > 10 or chosen_int<0:\n",
    "            print(\"Number is not between 1 - 10\")\n",
    "            print(\"You can't follow instruction, perhaps mentally challenged??...goodbye...thumbs down\")\n",
    "            break\n",
    "        elif chosen_int > rand_value:\n",
    "            print(\"Too high, try again!\")\n",
    "            continue\n",
    "        elif chosen_int < rand_value:\n",
    "            print(\"Too low, try again\")\n",
    "            continue\n",
    "    except Exception as e:\n",
    "        print(e)\n",
    "        \n",
    "        \n"
   ]
  },
  {
   "cell_type": "code",
   "execution_count": null,
   "metadata": {},
   "outputs": [],
   "source": []
  }
 ],
 "metadata": {
  "kernelspec": {
   "display_name": "Python 3",
   "language": "python",
   "name": "python3"
  },
  "language_info": {
   "codemirror_mode": {
    "name": "ipython",
    "version": 3
   },
   "file_extension": ".py",
   "mimetype": "text/x-python",
   "name": "python",
   "nbconvert_exporter": "python",
   "pygments_lexer": "ipython3",
   "version": "3.7.0"
  }
 },
 "nbformat": 4,
 "nbformat_minor": 2
}
