{
 "cells": [
  {
   "cell_type": "code",
   "execution_count": 19,
   "metadata": {},
   "outputs": [
    {
     "ename": "SyntaxError",
     "evalue": "invalid syntax (<ipython-input-19-99603606de1e>, line 47)",
     "output_type": "error",
     "traceback": [
      "\u001b[1;36m  File \u001b[1;32m\"<ipython-input-19-99603606de1e>\"\u001b[1;36m, line \u001b[1;32m47\u001b[0m\n\u001b[1;33m    return (cust_answer, middle, next_list);\u001b[0m\n\u001b[1;37m         ^\u001b[0m\n\u001b[1;31mSyntaxError\u001b[0m\u001b[1;31m:\u001b[0m invalid syntax\n"
     ]
    }
   ],
   "source": [
    "#Ex25 different approach: \n",
    "\n",
    "\n",
    "def first_call():\n",
    "    ans_char = 'N'\n",
    "    total_list = []\n",
    "    high = 101\n",
    "    next_list = []\n",
    "    return_value = []\n",
    "\n",
    "    for element in range(high):\n",
    "        total_list.append(element)\n",
    "    #print(total_list)\n",
    "    print(len(total_list))\n",
    "    print(len(total_list)/2)\n",
    "    middle = len(total_list)/2\n",
    "    middle = round(middle)\n",
    "    print(middle)\n",
    "    while True: \n",
    "        print(f\"Are you thinking {middle} as your number?\")\n",
    "        high_low_yes = input(\"If too high, type 'high', if too low, type 'low', if correct, 'yes' :\" )\n",
    "        cust_answer = high_low_yes.lower()[0]\n",
    "        if cust_answer == 'h' or 'l' or 'y':\n",
    "            break\n",
    "        else: \n",
    "            print(\"Invalid input, please choose 'high', 'low' or 'yes'\")\n",
    "            continue\n",
    "        \n",
    "        if cust_answer == 'y':\n",
    "            return_value = [cust_answer, middle, []]\n",
    "            return (cust_answer, middle, []);\n",
    "        else: \n",
    "            if cust_answer == 'l':    #it is too low \n",
    "                print(\"this is high: {} \".format(high))\n",
    "                for element in total_list[middle:high]:\n",
    "                    #print(element)\n",
    "                    next_list.append(element)\n",
    "                print(next_list)\n",
    "                return_value = [cust_answer, middle, next_list]\n",
    "                return return_value\n",
    "            elif cust_answer == 'h':\n",
    "                index_lowest = total_list[0]\n",
    "                print(type(total_list))\n",
    "                print(index_lowest)\n",
    "                print(middle)\n",
    "                for element in total_list[index_lowest:middle]:\n",
    "                    #print(element)\n",
    "                    next_list.append(element)\n",
    "                print(next_list)\n",
    "                return_value = [cust_answer, middle, next_list]\n",
    "                return return_value\n",
    "                #make the middle the floor index\n",
    "                      \n",
    "cust_answer, middle, next_list = first_call()\n"
   ]
  },
  {
   "cell_type": "code",
   "execution_count": null,
   "metadata": {},
   "outputs": [],
   "source": []
  }
 ],
 "metadata": {
  "kernelspec": {
   "display_name": "Python 3",
   "language": "python",
   "name": "python3"
  },
  "language_info": {
   "codemirror_mode": {
    "name": "ipython",
    "version": 3
   },
   "file_extension": ".py",
   "mimetype": "text/x-python",
   "name": "python",
   "nbconvert_exporter": "python",
   "pygments_lexer": "ipython3",
   "version": "3.7.0"
  }
 },
 "nbformat": 4,
 "nbformat_minor": 2
}
