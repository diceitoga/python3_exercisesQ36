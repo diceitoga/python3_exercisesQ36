{
 "cells": [
  {
   "cell_type": "code",
   "execution_count": 21,
   "metadata": {},
   "outputs": [
    {
     "name": "stdout",
     "output_type": "stream",
     "text": [
      "11\n",
      "detartrated\n",
      "detartrated\n",
      "9\n",
      "fuck yeah\n",
      "haey kcuf\n"
     ]
    },
    {
     "data": {
      "text/plain": [
       "False"
      ]
     },
     "execution_count": 21,
     "metadata": {},
     "output_type": "execute_result"
    }
   ],
   "source": [
    "#Excercise #6 from https://www.practicepython.org/exercise/2014/03/12/06-string-lists.html\n",
    "#Ask the user for a string and print out whether this string is a palindrome or not. \n",
    "#(A palindrome is a string that reads the same forwards and backwards.)\n",
    "\n",
    "def check_palindrome(word):\n",
    "    word_count = len(word)\n",
    "    print(word_count)\n",
    "    print(word)\n",
    "    reverse_word = word[::-1]\n",
    "    print(reverse_word)\n",
    "    if word == reverse_word:\n",
    "        return True\n",
    "    else: \n",
    "        return False\n",
    "    \n",
    "\n",
    "  \n",
    "    \n",
    "    \n",
    "    #for element in range word_count:\n",
    "        #word[element]\n",
    "    \n",
    "    #for element in word:\n",
    "        \n",
    "\n",
    "check_palindrome(\"detartrated\")\n",
    "check_palindrome(\"fuck yeah\")\n"
   ]
  },
  {
   "cell_type": "code",
   "execution_count": null,
   "metadata": {},
   "outputs": [],
   "source": []
  }
 ],
 "metadata": {
  "kernelspec": {
   "display_name": "Python 3",
   "language": "python",
   "name": "python3"
  },
  "language_info": {
   "codemirror_mode": {
    "name": "ipython",
    "version": 3
   },
   "file_extension": ".py",
   "mimetype": "text/x-python",
   "name": "python",
   "nbconvert_exporter": "python",
   "pygments_lexer": "ipython3",
   "version": "3.6.5"
  }
 },
 "nbformat": 4,
 "nbformat_minor": 2
}
