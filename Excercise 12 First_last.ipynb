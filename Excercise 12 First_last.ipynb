{
 "cells": [
  {
   "cell_type": "code",
   "execution_count": 12,
   "metadata": {},
   "outputs": [
    {
     "name": "stdout",
     "output_type": "stream",
     "text": [
      "[5, 10, 15, 20, 25]\n",
      "5\n",
      "5\n",
      "[1, 2, 3, 4, 5, 6, 7, 8]\n",
      "1\n",
      "8\n",
      "[2, 4, 6, 8, 10, 12, 14, 16]\n",
      "2\n",
      "8\n"
     ]
    },
    {
     "data": {
      "text/plain": [
       "[2, 16]"
      ]
     },
     "execution_count": 12,
     "metadata": {},
     "output_type": "execute_result"
    }
   ],
   "source": [
    "#Excercise 12: Write a program that takes a list of numbers (for example, a = [5, 10, 15, 20, 25]) \n",
    "#and makes a new list of only the first and last elements of the given list. \n",
    "#For practice, write this code inside a function.\n",
    "\n",
    "def first_last(some_list):\n",
    "    print(some_list)\n",
    "    first_last_list = []\n",
    "    first_num = some_list[0]\n",
    "    print(first_num)\n",
    "    index_last = len(some_list)\n",
    "    print(index_last)\n",
    "    last_num = some_list[index_last-1]\n",
    "    first_last_list.append(first_num)\n",
    "    first_last_list.append(last_num)\n",
    "    return first_last_list\n",
    "\n",
    "a = [5, 10, 15, 20, 25]\n",
    "b = [1,2,3,4,5,6,7,8]\n",
    "c = [2,4,6,8,10,12,14,16]\n",
    "\n",
    "first_last(a)\n",
    "first_last(b)\n",
    "first_last(c)\n",
    "\n"
   ]
  },
  {
   "cell_type": "code",
   "execution_count": 6,
   "metadata": {},
   "outputs": [
    {
     "name": "stdout",
     "output_type": "stream",
     "text": [
      "5\n"
     ]
    }
   ],
   "source": [
    "a = [5, 10, 15, 20, 25]\n",
    "index_last = len(a)\n",
    "print(index_last)"
   ]
  },
  {
   "cell_type": "code",
   "execution_count": null,
   "metadata": {},
   "outputs": [],
   "source": []
  }
 ],
 "metadata": {
  "kernelspec": {
   "display_name": "Python 3",
   "language": "python",
   "name": "python3"
  },
  "language_info": {
   "codemirror_mode": {
    "name": "ipython",
    "version": 3
   },
   "file_extension": ".py",
   "mimetype": "text/x-python",
   "name": "python",
   "nbconvert_exporter": "python",
   "pygments_lexer": "ipython3",
   "version": "3.7.0"
  }
 },
 "nbformat": 4,
 "nbformat_minor": 2
}
