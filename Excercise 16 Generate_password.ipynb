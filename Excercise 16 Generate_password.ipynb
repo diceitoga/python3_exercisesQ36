{
 "cells": [
  {
   "cell_type": "code",
   "execution_count": 16,
   "metadata": {},
   "outputs": [
    {
     "name": "stdout",
     "output_type": "stream",
     "text": [
      "[5, 5, 8]\n",
      "[5, 5, 8, 'y', 'm', 'x', 'e', 'i']\n",
      "[5, 5, 8, 'y', 'm', 'x', 'e', 'i', 'D']\n"
     ]
    },
    {
     "data": {
      "text/plain": [
       "[5, 5, 8, 'y', 'm', 'x', 'e', 'i', 'D']"
      ]
     },
     "execution_count": 16,
     "metadata": {},
     "output_type": "execute_result"
    }
   ],
   "source": [
    "#Excercise 16:  Password Generator: Write a password generator in Python. \n",
    "#Be creative with how you generate passwords - strong passwords have a mix of:\n",
    "#lowercase letters, uppercase letters, numbers, and symbols. The passwords should be random, \n",
    "#generating a new password every time the user asks for a new password. Include your run-time code in a main method.\n",
    "#https://stackoverflow.com/questions/2257441/random-string-generation-with-upper-case-letters-and-digits-in-python \n",
    "#you can't use random.shuffle() because it just shuffles in place and displays so print(random.shuffle()) would work, \n",
    "#you can't reuse the shuffled word. \n",
    "import random \n",
    "passcode = []\n",
    "#random.choice(\"abcde\")\n",
    "\n",
    "def generate_password():\n",
    "    \n",
    "    for item in range(3):\n",
    "        rand_numbers = random.randint(0,9)   #this is the number portion\n",
    "        passcode.append(rand_numbers)\n",
    "    print(passcode)\n",
    "    \n",
    "    for char in range(5):\n",
    "        rand_char = random.choice(\"abcdefghigklemopqrstuvwxyz\")\n",
    "        passcode.append(rand_char)\n",
    "    print(passcode)\n",
    "    \n",
    "    for char in range(1):\n",
    "        capital_char = random.choice(\"ABCDEFGHIJKLMN\")\n",
    "        passcode.append(capital_char)\n",
    "    print(passcode)\n",
    "    return passcode\n",
    "    \n",
    "generate_password()\n",
    "\n"
   ]
  },
  {
   "cell_type": "code",
   "execution_count": null,
   "metadata": {},
   "outputs": [],
   "source": []
  }
 ],
 "metadata": {
  "kernelspec": {
   "display_name": "Python 3",
   "language": "python",
   "name": "python3"
  },
  "language_info": {
   "codemirror_mode": {
    "name": "ipython",
    "version": 3
   },
   "file_extension": ".py",
   "mimetype": "text/x-python",
   "name": "python",
   "nbconvert_exporter": "python",
   "pygments_lexer": "ipython3",
   "version": "3.7.0"
  }
 },
 "nbformat": 4,
 "nbformat_minor": 2
}
