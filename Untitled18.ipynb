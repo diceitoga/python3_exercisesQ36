{
 "cells": [
  {
   "cell_type": "code",
   "execution_count": null,
   "metadata": {},
   "outputs": [],
   "source": [
    "#Exercise 23 https://www.practicepython.org/exercise/2014/12/14/23-file-overlap.html\n",
    "#Given two .txt files that have lists of numbers in them, find the numbers that are overlapping.\n",
    "#One .txt file has a list of all prime numbers under 1000, and the other .txt file has a list of happy numbers up to 1000.\n",
    "#(If you forgot, prime numbers are numbers that can’t be divided by any other number.\n",
    "#And yes, happy numbers are a real thing in mathematics - you can look it up on Wikipedia. \n",
    "#The explanation is easier with an example, which I will describe below.)\n",
    "#Steps: \n",
    "#Reading a file, in Exercise 21\n",
    "#Number types and converting to integers from strings, in Exercise 1\n",
    "#"
   ]
  }
 ],
 "metadata": {
  "kernelspec": {
   "display_name": "Python 3",
   "language": "python",
   "name": "python3"
  },
  "language_info": {
   "codemirror_mode": {
    "name": "ipython",
    "version": 3
   },
   "file_extension": ".py",
   "mimetype": "text/x-python",
   "name": "python",
   "nbconvert_exporter": "python",
   "pygments_lexer": "ipython3",
   "version": "3.7.0"
  }
 },
 "nbformat": 4,
 "nbformat_minor": 2
}
