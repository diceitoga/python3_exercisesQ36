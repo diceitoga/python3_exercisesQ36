{
 "cells": [
  {
   "cell_type": "code",
   "execution_count": 14,
   "metadata": {},
   "outputs": [
    {
     "name": "stdout",
     "output_type": "stream",
     "text": [
      "Please enter a number and I will tell you if it is a prime number13\n",
      "13\n"
     ]
    },
    {
     "data": {
      "text/plain": [
       "'Prime'"
      ]
     },
     "execution_count": 14,
     "metadata": {},
     "output_type": "execute_result"
    }
   ],
   "source": [
    "#Excercise 11: Ask the user for a number and determine whether the number is prime or not. \n",
    "#(For those who have forgotten, a prime number is a number that has no divisors.). \n",
    "#You can (and should!) use your answer to Exercise 4 to help you. \n",
    "#Take this opportunity to practice using functions, described below\n",
    "def check_prime(value_entered):\n",
    "    try:\n",
    "        for element in range(value_entered):\n",
    "            if element ==1 or element==0:\n",
    "                continue\n",
    "            elif value_entered%element==0: \n",
    "                return \"Not prime\"\n",
    "            else:\n",
    "                return \"Prime\"\n",
    "    except Exception as e:\n",
    "        print(e)\n",
    "        \n",
    "        \n",
    "input_value =int(input(\"Please enter a number and I will tell you if it is a prime number\"))\n",
    "print(input_value)\n",
    "check_prime(input_value)\n",
    "\n",
    "\n",
    "        "
   ]
  },
  {
   "cell_type": "code",
   "execution_count": null,
   "metadata": {},
   "outputs": [],
   "source": []
  }
 ],
 "metadata": {
  "kernelspec": {
   "display_name": "Python 3",
   "language": "python",
   "name": "python3"
  },
  "language_info": {
   "codemirror_mode": {
    "name": "ipython",
    "version": 3
   },
   "file_extension": ".py",
   "mimetype": "text/x-python",
   "name": "python",
   "nbconvert_exporter": "python",
   "pygments_lexer": "ipython3",
   "version": "3.7.0"
  }
 },
 "nbformat": 4,
 "nbformat_minor": 2
}
