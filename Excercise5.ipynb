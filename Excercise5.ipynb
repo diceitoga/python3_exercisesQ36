{
 "cells": [
  {
   "cell_type": "code",
   "execution_count": 11,
   "metadata": {},
   "outputs": [
    {
     "data": {
      "text/plain": [
       "[1, 2, 3, 5, 8, 13]"
      ]
     },
     "execution_count": 11,
     "metadata": {},
     "output_type": "execute_result"
    }
   ],
   "source": [
    "#Excercise 5 From https://www.practicepython.org\n",
    "#Take two lists, say for example these two:\n",
    "#  a = [1, 1, 2, 3, 5, 8, 13, 21, 34, 55, 89]\n",
    "#  b = [1, 2, 3, 4, 5, 6, 7, 8, 9, 10, 11, 12, 13]\n",
    "#and write a program that returns a list that contains only the elements that are common between the lists \n",
    "#(without duplicates).\n",
    "# Make sure your program works on two lists of different sizes.\n",
    "def common_element():\n",
    "    a = [1, 1, 2, 3, 5, 8, 13, 21, 34, 55, 89]\n",
    "    b = [1, 2, 3, 4, 5, 6, 7, 8, 9, 10, 11, 12, 13]\n",
    "\n",
    "    set_a = set(a)\n",
    "    set_b = set(b)\n",
    "    #print(set_a)\n",
    "    #print(set_b)\n",
    "    overlap_set = []\n",
    "    for element in set_b:\n",
    "        if element in set_a:\n",
    "            #print(element)\n",
    "            overlap_set.append(element)\n",
    "    return overlap_set\n",
    "\n",
    "common_element()\n",
    "    \n"
   ]
  },
  {
   "cell_type": "code",
   "execution_count": 30,
   "metadata": {},
   "outputs": [
    {
     "name": "stdout",
     "output_type": "stream",
     "text": [
      "[4, 6, 1, 7, 2, 0, 2, 6]\n",
      "{0, 1, 2, 4, 6, 7}\n",
      "[3, 4, 17, 7, 11, 5, 15, 10, 8, 16, 9, 6]\n",
      "{3, 4, 5, 6, 7, 8, 9, 10, 11, 15, 16, 17}\n"
     ]
    },
    {
     "data": {
      "text/plain": [
       "[4, 6, 7]"
      ]
     },
     "execution_count": 30,
     "metadata": {},
     "output_type": "execute_result"
    }
   ],
   "source": [
    "import random\n",
    "\n",
    "def common_randlist():\n",
    "    list_a = ['']*8\n",
    "    list_b = ['']*12\n",
    "\n",
    "#print(list_a)\n",
    "    for index in range(0,8):\n",
    "        list_a[index] = random.randrange(0,8)\n",
    "    print(list_a)\n",
    "    list_a = set(list_a)\n",
    "    print(list_a)\n",
    "\n",
    "    for element in range(0,12):\n",
    "        list_b[element] = random.randrange(1,20)\n",
    "    print(list_b)\n",
    "    list_b = set(list_b)\n",
    "    print(list_b)\n",
    "\n",
    "    overlap_set_R = []\n",
    "    for element in list_a:\n",
    "        if element in list_b:\n",
    "            overlap_set_R.append(element)\n",
    "    \n",
    "    return overlap_set_R\n",
    "\n",
    "common_randlist()\n",
    "\n",
    "\n",
    "\n",
    "\n",
    "    \n"
   ]
  },
  {
   "cell_type": "code",
   "execution_count": null,
   "metadata": {},
   "outputs": [],
   "source": []
  }
 ],
 "metadata": {
  "kernelspec": {
   "display_name": "Python 3",
   "language": "python",
   "name": "python3"
  },
  "language_info": {
   "codemirror_mode": {
    "name": "ipython",
    "version": 3
   },
   "file_extension": ".py",
   "mimetype": "text/x-python",
   "name": "python",
   "nbconvert_exporter": "python",
   "pygments_lexer": "ipython3",
   "version": "3.7.0"
  }
 },
 "nbformat": 4,
 "nbformat_minor": 2
}
