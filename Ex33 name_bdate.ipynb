{
 "cells": [
  {
   "cell_type": "code",
   "execution_count": 3,
   "metadata": {},
   "outputs": [
    {
     "name": "stdout",
     "output_type": "stream",
     "text": [
      "Welcome to the birthday dictionary. We know the birthdays of:\n",
      "Albert Einstein\n",
      "Benjamin Franklin\n",
      "Dice Itoga\n",
      "Abraham Licoln\n",
      "Who's birthday do you want to look up?: Benjamin Franklin\n",
      "January 17, 1706\n"
     ]
    }
   ],
   "source": [
    "#Ex 33 Name and birthday https://www.practicepython.org/exercise/2017/01/24/33-birthday-dictionaries.html\n",
    "'''\n",
    ">>> Welcome to the birthday dictionary. We know the birthdays of:\n",
    "Albert Einstein\n",
    "Benjamin Franklin\n",
    "Ada Lovelace\n",
    ">>> Who's birthday do you want to look up?\n",
    "Benjamin Franklin\n",
    ">>> Benjamin Franklin's birthday is 01/17/1706.\n",
    "\n",
    "'''\n",
    "\n",
    "print(\"Welcome to the birthday dictionary. We know the birthdays of:\")\n",
    "print(\"Albert Einstein\")\n",
    "print(\"Benjamin Franklin\")\n",
    "print(\"Dice Itoga\")\n",
    "print(\"Abraham Licoln\")\n",
    "name_value= input(\"Who's birthday do you want to look up?: \")\n",
    "\n",
    "birthdayDB = {'Albert Einstein': 'March 14, 1879',\n",
    " 'Benjamin Franklin':'January 17, 1706',\n",
    " 'Dice Itoga':'January 1, 1900',\n",
    " 'Abraham Lincoln':'February 12, 1809'\n",
    "}\n",
    "print(birthdayDB[name_value])\n"
   ]
  },
  {
   "cell_type": "code",
   "execution_count": null,
   "metadata": {},
   "outputs": [],
   "source": []
  }
 ],
 "metadata": {
  "kernelspec": {
   "display_name": "Python 3",
   "language": "python",
   "name": "python3"
  },
  "language_info": {
   "codemirror_mode": {
    "name": "ipython",
    "version": 3
   },
   "file_extension": ".py",
   "mimetype": "text/x-python",
   "name": "python",
   "nbconvert_exporter": "python",
   "pygments_lexer": "ipython3",
   "version": "3.7.0"
  }
 },
 "nbformat": 4,
 "nbformat_minor": 2
}
