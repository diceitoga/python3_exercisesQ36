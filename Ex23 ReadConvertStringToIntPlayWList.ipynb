{
 "cells": [
  {
   "cell_type": "code",
   "execution_count": 38,
   "metadata": {},
   "outputs": [
    {
     "name": "stdout",
     "output_type": "stream",
     "text": [
      "[7, 13, 19, 23, 31, 79, 97, 103, 109, 139, 167, 193, 239, 263, 293, 313, 331, 367, 379, 383, 397, 409, 487, 563, 617, 653, 673, 683, 709, 739, 761, 863, 881, 907, 937]\n"
     ]
    },
    {
     "data": {
      "text/plain": [
       "\"\\nwith open('One.txt','r') as unko:    ##we know this works\\n    #chopping_table = open_file.read()            ##we know this works\\n    \\n#print(type(chopping_table))                      #we know this works and if print(chopping_table) then in prints. \\n\\n    line = unko.readline()\\n    print(len(line))\\n    \\nwhile line: \\n    print(line)\\n    line = unko.readline()\\n\""
      ]
     },
     "execution_count": 38,
     "metadata": {},
     "output_type": "execute_result"
    }
   ],
   "source": [
    "#Exercise 23 https://www.practicepython.org/exercise/2014/12/14/23-file-overlap.html\n",
    "#Given two .txt files that have lists of numbers in them, find the numbers that are overlapping.\n",
    "#One .txt file has a list of all prime numbers under 1000, and the other .txt file has a list of happy numbers up to 1000.\n",
    "#(If you forgot, prime numbers are numbers that can’t be divided by any other number.\n",
    "#And yes, happy numbers are a real thing in mathematics - you can look it up on Wikipedia. \n",
    "#The explanation is easier with an example, which I will describe below.)\n",
    "#Steps: \n",
    "#Reading a file, in Exercise 21\n",
    "#Number types and converting to integers from strings, in Exercise 1\n",
    "#Lists, in Exercise 3 and Exercise 5\n",
    "\n",
    "######################Step 1 read in files ####################################\n",
    "\n",
    "with open('One.txt', 'r') as open_file:\n",
    "    all_text = open_file.read()\n",
    "#print(all_text)\n",
    "all_text = all_text.split('\\n')\n",
    "#print(type(all_text))\n",
    "#print(all_text)\n",
    "#print(type(all_text[0]))\n",
    "one_text_int = []\n",
    "\n",
    "for element in all_text:\n",
    "    value = int(element)\n",
    "    one_text_int.append(value)\n",
    "#print(type(value))\n",
    "#print(one_text_int)\n",
    "\n",
    "with open('theOther.txt','r')as other_open_file:\n",
    "    all_text_other = other_open_file.read()\n",
    "    \n",
    "all_text_other = all_text_other.split('\\n')\n",
    "\n",
    "other_int = []\n",
    "\n",
    "for element in all_text_other:\n",
    "    value2 = int(element)\n",
    "    other_int.append(value2)\n",
    "#print(other_int)\n",
    "\n",
    "overlap_list = []\n",
    "#item for item in list_a if item not in list_b\n",
    "#overlap_list = item \n",
    "\n",
    "for item in other_int:\n",
    "    if item in one_text_int:\n",
    "        overlap_list.append(item)\n",
    "print(overlap_list)\n",
    "        \n",
    "\n",
    "\n",
    "#for element in all_text:\n",
    "    #one_text.append(element)\n",
    "    \n",
    "#print(one_text)\n",
    "\n",
    "#print(one_text.split('\\n'))\n",
    "    \n",
    "\n",
    "\n",
    "    \n",
    "\n",
    "    \n",
    "\n",
    "\n",
    "\n"
   ]
  },
  {
   "cell_type": "code",
   "execution_count": 2,
   "metadata": {},
   "outputs": [
    {
     "name": "stdout",
     "output_type": "stream",
     "text": [
      " Volume in drive C is OS\n",
      " Volume Serial Number is 7049-F55F\n",
      "\n",
      " Directory of C:\\Users\\dicei\\Documents\\Python3\\website_exercises\n",
      "\n",
      "11/17/2018  01:44 PM             3,090  Exercise question 2 AddEven.ipynb\n",
      "11/25/2018  10:42 AM    <DIR>          .\n",
      "11/25/2018  10:42 AM    <DIR>          ..\n",
      "11/25/2018  09:08 AM    <DIR>          .ipynb_checkpoints\n",
      "11/24/2018  11:26 AM               575 Darth_luke.txt\n",
      "11/19/2018  03:11 PM             1,959 Ex 15 Reverse order of the string via word split .ipynb\n",
      "11/25/2018  09:02 AM             3,889 Ex22 DarthLeaLukeReadFileAndCountWorks.ipynb\n",
      "11/25/2018  08:24 AM               905 Ex22Testing.ipynb\n",
      "11/25/2018  10:42 AM         1,677,023 Ex23 ReadConvertStringToIntPlayWList.ipynb\n",
      "11/23/2018  02:21 PM                10 exampleFile\n",
      "11/23/2018  02:24 PM                10 exampleFile.txt\n",
      "11/23/2018  02:24 PM            11,518 exampleFile2.txt\n",
      "11/18/2018  08:14 PM             2,035 Excercise 11.ipynb\n",
      "11/18/2018  08:47 PM             2,298 Excercise 12 First_last.ipynb\n",
      "11/18/2018  09:58 PM             1,340 Excercise 13 Fibinachi.ipynb\n",
      "11/19/2018  03:52 PM             2,582 Excercise 16 Generate_password.ipynb\n",
      "11/20/2018  02:02 PM             3,488 Excercise 17 BeautifulSoup.ipynb\n",
      "11/24/2018  11:19 AM             8,262 Excercise 18 Cows_and_bulls().ipynb\n",
      "11/23/2018  07:57 AM             9,491 Excercise 21 write file.ipynb\n",
      "11/24/2018  11:20 AM             1,996 Excercise 21 WritingReadingFromURLSaveBeautifulSoupToListToStringSaveFile.ipynb\n",
      "11/18/2018  10:37 AM             3,225 excercise 8.ipynb\n",
      "11/18/2018  06:55 PM             2,954 excercise 9.ipynb\n",
      "11/18/2018  07:26 PM             1,904 Excercise_10.ipynb\n",
      "11/22/2018  07:55 AM             1,785 Excercise20  Element Search.ipynb\n",
      "11/17/2018  01:55 PM             2,593 Excercise3.ipynb\n",
      "11/22/2018  07:34 AM             3,232 Excercise5.ipynb\n",
      "11/19/2018  12:36 PM             1,998 Exercise 14 adding lists and turning into sets.ipynb\n",
      "11/20/2018  08:20 PM            33,494 Exercise 19 BeautifulSoupChallenge2.ipynb\n",
      "11/24/2018  12:55 PM             7,195 Exercise 22 first part with open.ipynb\n",
      "11/22/2018  07:49 AM             1,950 Exercise 6.ipynb\n",
      "11/23/2018  02:19 PM               901 Exercise creating_file_from_python_using_Open.ipynb\n",
      "11/17/2018  03:32 PM             2,234 Exercise4.ipynb\n",
      "11/22/2018  07:51 AM             1,645 Exercise7 element for element in a if.ipynb\n",
      "11/23/2018  02:19 PM                41 file_created.txt\n",
      "11/23/2018  07:45 AM                 0 file_name.txt\n",
      "11/25/2018  10:22 AM               825 One.txt\n",
      "11/17/2018  11:23 AM             3,991 practicepython.org_exercises\n",
      "11/25/2018  10:25 AM               825 theOther.txt\n",
      "11/23/2018  10:56 AM                 0 total_list\n",
      "11/17/2018  01:53 PM             2,236 Untitled.ipynb\n",
      "11/17/2018  03:32 PM             2,197 Untitled1.ipynb\n",
      "11/18/2018  08:49 PM             1,090 Untitled10.ipynb\n",
      "11/19/2018  12:35 PM             1,998 Untitled11.ipynb\n",
      "11/19/2018  03:09 PM             1,959 Untitled12.ipynb\n",
      "11/19/2018  07:00 PM             1,358 Untitled13.ipynb\n",
      "11/24/2018  11:34 AM             2,780 Untitled14.ipynb\n",
      "11/24/2018  11:40 AM             1,310 Untitled15.ipynb\n",
      "11/25/2018  08:17 AM                72 Untitled16.ipynb\n",
      "11/25/2018  09:02 AM             3,889 Untitled17.ipynb\n",
      "11/25/2018  09:08 AM             1,317 Untitled18.ipynb\n",
      "11/17/2018  03:51 PM             3,531 Untitled2.ipynb\n",
      "11/17/2018  05:55 PM             1,591 Untitled3.ipynb\n",
      "11/18/2018  09:01 AM             1,645 Untitled4.ipynb\n",
      "11/18/2018  09:48 AM             3,254 Untitled5.ipynb\n",
      "11/18/2018  10:37 AM                72 Untitled6.ipynb\n",
      "11/18/2018  06:59 PM             1,259 Untitled7.ipynb\n",
      "11/18/2018  08:03 PM             2,967 Untitled8.ipynb\n",
      "11/18/2018  08:28 PM             4,077 Untitled9.ipynb\n",
      "              55 File(s)      1,839,865 bytes\n",
      "               3 Dir(s)  840,980,992,000 bytes free\n"
     ]
    }
   ],
   "source": [
    "ls \n",
    "\n"
   ]
  },
  {
   "cell_type": "code",
   "execution_count": null,
   "metadata": {},
   "outputs": [],
   "source": []
  }
 ],
 "metadata": {
  "kernelspec": {
   "display_name": "Python 3",
   "language": "python",
   "name": "python3"
  },
  "language_info": {
   "codemirror_mode": {
    "name": "ipython",
    "version": 3
   },
   "file_extension": ".py",
   "mimetype": "text/x-python",
   "name": "python",
   "nbconvert_exporter": "python",
   "pygments_lexer": "ipython3",
   "version": "3.7.0"
  }
 },
 "nbformat": 4,
 "nbformat_minor": 2
}
