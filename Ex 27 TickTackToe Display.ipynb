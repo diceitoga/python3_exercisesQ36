{
 "cells": [
  {
   "cell_type": "code",
   "execution_count": null,
   "metadata": {},
   "outputs": [],
   "source": [
    "#Ex 27 https://www.practicepython.org/exercise/2015/11/26/27-tic-tac-toe-draw.html\n",
    "'''\n",
    "This exercise is Part 3 of 4 of the Tic Tac Toe exercise series. The other exercises are: Part 1, Part 2, and Part 4.\n",
    "\n",
    "In a previous exercise we explored the idea of using a list of lists as a “data structure” \n",
    "to store information about a tic tac toe game. \n",
    "In a tic tac toe game, the “game server” needs to know where the Xs and Os are in the board, \n",
    "to know whether player 1 or player 2 (or whoever is X and O won).\n",
    "\n",
    "There has also been an exercise about drawing the actual tic tac toe gameboard using text characters.\n",
    "\n",
    "The next logical step is to deal with handling user input. \n",
    "When a player (say player 1, who is X) wants to place an X on the screen, they can’t just click on a terminal. \n",
    "So we are going to approximate this clicking simply \n",
    "by asking the user for a coordinate of where they want to place their piece.\n",
    "\n",
    "As a reminder, our tic tac toe game is really a list of lists. \n",
    "The game starts out with an empty game board like this:\n",
    "\n",
    "game = [[0, 0, 0],\n",
    "        [0, 0, 0],\n",
    "        [0, 0, 0]]\n",
    "\n",
    "The computer asks Player 1 (X) what their move is (in the format row,col), and say they type 1,3. \n",
    "Then the game would print out\n",
    "\n",
    "game = [[0, 0, X],\n",
    "        [0, 0, 0],\n",
    "        [0, 0, 0]]\n",
    "\n",
    "And ask Player 2 for their move, printing an O in that place.\n",
    "\n",
    "\n",
    "'''"
   ]
  }
 ],
 "metadata": {
  "kernelspec": {
   "display_name": "Python 3",
   "language": "python",
   "name": "python3"
  },
  "language_info": {
   "codemirror_mode": {
    "name": "ipython",
    "version": 3
   },
   "file_extension": ".py",
   "mimetype": "text/x-python",
   "name": "python",
   "nbconvert_exporter": "python",
   "pygments_lexer": "ipython3",
   "version": "3.7.0"
  }
 },
 "nbformat": 4,
 "nbformat_minor": 2
}
