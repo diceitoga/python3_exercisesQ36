{
 "cells": [
  {
   "cell_type": "code",
   "execution_count": 22,
   "metadata": {},
   "outputs": [
    {
     "name": "stdout",
     "output_type": "stream",
     "text": [
      "‘I Found This Very, Very Violent.’ Carlos Ghosn’s Arrest Tests Nissan-Renault Relationship - WSJ\n"
     ]
    }
   ],
   "source": [
    "from bs4 import BeautifulSoup\n",
    "import bs4 as bs    ##beautifulsoup4 as bs\n",
    "import urllib.request  ##urllib module: https://docs.python.org/3/library/urllib.html  =>request is to open and read URL\n",
    "source = urllib.request.urlopen('https://www.wsj.com/articles/i-found-this-very-very-violent-carlos-ghosns-arrest-tests-nissan-renault-relationship-1542939001').read()   ##you get source code from here.\n",
    "\n",
    "soup =bs.BeautifulSoup(source,'lxml')   #lxml is the most feature-rich and easy-to-use library for processing XML and HTML in the Python language.\n",
    "total_list = []\n",
    "#print(soup)\n",
    "#print(soup.title)\n",
    "for paragraph in soup.find_all('title'):\n",
    "    print(paragraph.text)\n",
    "for paragraph in soup.find_all('p'):\n",
    "    total_list.append(paragraph.text)\n",
    "    \n",
    "total_list = ''.join(total_list)\n",
    "#print(total_list)\n",
    "save_file = open('exampleFile2.txt', 'w')\n",
    "save_file.write(total_list)\n",
    "#print(exampleFile.txt)\n",
    "save_file.close()\n",
    "    \n",
    "\n",
    "    \n"
   ]
  },
  {
   "cell_type": "code",
   "execution_count": null,
   "metadata": {},
   "outputs": [],
   "source": []
  }
 ],
 "metadata": {
  "kernelspec": {
   "display_name": "Python 3",
   "language": "python",
   "name": "python3"
  },
  "language_info": {
   "codemirror_mode": {
    "name": "ipython",
    "version": 3
   },
   "file_extension": ".py",
   "mimetype": "text/x-python",
   "name": "python",
   "nbconvert_exporter": "python",
   "pygments_lexer": "ipython3",
   "version": "3.7.0"
  }
 },
 "nbformat": 4,
 "nbformat_minor": 2
}
