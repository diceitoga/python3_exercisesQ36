{
 "cells": [
  {
   "cell_type": "code",
   "execution_count": 22,
   "metadata": {},
   "outputs": [
    {
     "name": "stdout",
     "output_type": "stream",
     "text": [
      "{'fruit': 'Apple', 'size': 'Large', 'color': 'Red'}\n",
      "{'book': [{'id': '01', 'language': 'Java', 'edition': 'third', 'author': 'Herbert Schildt'}, {'id': '07', 'language': 'C++', 'edition': 'second', 'author': 'E.Balagurusamy'}]}\n",
      "{'Birthdays': [{'name': 'DItoga', 'birthday': 'Jan 1st, 1900'}, {'name': 'Albert Einstein', 'birthday': 'March 14, 1879'}, {'name': 'Benjamin Franklin', 'birthday': 'January 17, 1706'}, {'name': 'Abraham Lincoln', 'birthday': 'February 12, 1809'}, {'name': 'George HW Scherff', 'birthday': 'June 12th, 1924'}]}\n"
     ]
    }
   ],
   "source": [
    "\n",
    "import json \n",
    "\n",
    "with open('example_1.json','r') as f:\n",
    "    s = json.load(f)\n",
    "    print(s)\n",
    "    \n",
    "    \n",
    "with open('test_file.json.txt','r')as g:\n",
    "    s2 = json.load(g)\n",
    "    print(s2)\n",
    "with open('birthdayJSON.json','r')as h:\n",
    "    s3 = json.load(h)\n",
    "    print(s3)\n",
    " \n",
    " \n",
    "    \n"
   ]
  },
  {
   "cell_type": "code",
   "execution_count": null,
   "metadata": {},
   "outputs": [],
   "source": []
  }
 ],
 "metadata": {
  "kernelspec": {
   "display_name": "Python 3",
   "language": "python",
   "name": "python3"
  },
  "language_info": {
   "codemirror_mode": {
    "name": "ipython",
    "version": 3
   },
   "file_extension": ".py",
   "mimetype": "text/x-python",
   "name": "python",
   "nbconvert_exporter": "python",
   "pygments_lexer": "ipython3",
   "version": "3.7.0"
  }
 },
 "nbformat": 4,
 "nbformat_minor": 2
}
