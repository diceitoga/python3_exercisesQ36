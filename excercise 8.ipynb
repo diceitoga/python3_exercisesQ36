{
 "cells": [
  {
   "cell_type": "code",
   "execution_count": 1,
   "metadata": {},
   "outputs": [
    {
     "name": "stdout",
     "output_type": "stream",
     "text": [
      "Play rock paper sissors? y/ny\n",
      "Choose r for rock, p for paper, or s for sissorsr\n",
      "Choose r for rock, p for paper, or s for sissorsp\n",
      "Player2 wins!\n",
      "Play rock paper sissors? y/nn\n"
     ]
    }
   ],
   "source": [
    "#Excercise 8: https://www.practicepython.org/exercise/2014/03/26/08-rock-paper-scissors.html\n",
    "#Make a two-player Rock-Paper-Scissors game. (Hint: Ask for player plays (using input), \n",
    "#compare them, print out a message of congratulations to the winner, \n",
    "#and ask if the players want to start a new game)\n",
    "def player_1_hand():\n",
    "    p1_hand = input(\"Choose r for rock, p for paper, or s for sissors\")\n",
    "    return p1_hand\n",
    "\n",
    "def player_2_hand():\n",
    "    p2_hand = input(\"Choose r for rock, p for paper, or s for sissors\") \n",
    "    return p2_hand\n",
    "\n",
    "def rock_paper_sissors_evaluate(p1, p2):\n",
    "    '''\n",
    "    Input: \n",
    "    takes P1(rock, paper, sissors)\n",
    "    takes p2(rock, paper, sissors)\n",
    "    compare the p1 Vs. P2 to see which hand is better.\n",
    "    Output: return winner(p1 or p2)\n",
    "    '''\n",
    "    tie = \"You tied!\"\n",
    "    p1_win = \"Player1 wins!\"\n",
    "    p2_win = \"Player2 wins!\"\n",
    "\n",
    "    if(p1=='r' and p2 =='r')or (p1 =='p' and p2=='p') or (p1=='s' and p1 =='s'):\n",
    "        print(tie)\n",
    "        return tie\n",
    "    elif(p1=='r' and p2=='s')or(p1=='p' and p2=='r')or(p1=='s'and p2=='p'):\n",
    "        print(p1_win)\n",
    "        return p1_win\n",
    "    else: \n",
    "        print(p2_win)\n",
    "        return p2_win\n",
    "\n",
    "def play_game():\n",
    "    while True: \n",
    "        continue_game = input(\"Play rock paper sissors? y/n\")\n",
    "        continue_game = continue_game.lower() \n",
    "        if continue_game[0]=='y':\n",
    "            p1_hand = player_1_hand()\n",
    "            p2_hand = player_2_hand()\n",
    "            rock_paper_sissors_evaluate(p1_hand, p2_hand)\n",
    "            \n",
    "        \n",
    "        elif continue_game[0]=='n':\n",
    "            break\n",
    "        else:\n",
    "            \"wrong input, y/n dummy!\"\n",
    "            continue\n",
    "            \n",
    "\n",
    "play_game()\n",
    "\n",
    "        \n",
    "    \n",
    "    \n",
    "    \n",
    "\n",
    "\n",
    "\n",
    "\n",
    "    \n",
    "\n"
   ]
  },
  {
   "cell_type": "code",
   "execution_count": null,
   "metadata": {},
   "outputs": [],
   "source": []
  }
 ],
 "metadata": {
  "kernelspec": {
   "display_name": "Python 3",
   "language": "python",
   "name": "python3"
  },
  "language_info": {
   "codemirror_mode": {
    "name": "ipython",
    "version": 3
   },
   "file_extension": ".py",
   "mimetype": "text/x-python",
   "name": "python",
   "nbconvert_exporter": "python",
   "pygments_lexer": "ipython3",
   "version": "3.7.0"
  }
 },
 "nbformat": 4,
 "nbformat_minor": 2
}
