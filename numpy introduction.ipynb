{
 "cells": [
  {
   "cell_type": "code",
   "execution_count": 11,
   "metadata": {},
   "outputs": [
    {
     "name": "stdout",
     "output_type": "stream",
     "text": [
      "[ 4  5  6  8 11 15]\n",
      "[ 3  6  9 12 15 18 21 24 27 30 33 36 39 42 45 48]\n",
      "[  0.   5.  10.  15.  20.  25.  30.  35.  40.  45.  50.  55.  60.  65.\n",
      "  70.  75.  80.  85.  90.  95. 100. 105. 110. 115. 120.]\n",
      "25\n"
     ]
    },
    {
     "data": {
      "text/plain": [
       "array([[  0.,   5.,  10.,  15.,  20.],\n",
       "       [ 25.,  30.,  35.,  40.,  45.],\n",
       "       [ 50.,  55.,  60.,  65.,  70.],\n",
       "       [ 75.,  80.,  85.,  90.,  95.],\n",
       "       [100., 105., 110., 115., 120.]])"
      ]
     },
     "execution_count": 11,
     "metadata": {},
     "output_type": "execute_result"
    }
   ],
   "source": [
    "import numpy as np\n",
    "a = np.array([4,5,6,8,11,15])\n",
    "print(a)\n",
    "a[0]\n",
    "b = np.arange(3,50,3)\n",
    "print(b)\n",
    "\n",
    "c = np.linspace(0,120, 25)    #creates floating space array!   evenly spaced w 25....elements\n",
    "print(c)\n",
    "print(len(c))         #There are 25 elements as suggested above\n",
    "c.reshape(5,5)        #reshape creates 2 dimeisional array!!"
   ]
  },
  {
   "cell_type": "code",
   "execution_count": 2,
   "metadata": {},
   "outputs": [
    {
     "name": "stdout",
     "output_type": "stream",
     "text": [
      "[ 3  6  9 12 15 18 21 24 27 30 33 36 39 42 45 48]\n"
     ]
    }
   ],
   "source": [
    "import numpy as np\n",
    "b = np.arange(3,50,3)\n",
    "print(b)"
   ]
  },
  {
   "cell_type": "code",
   "execution_count": 7,
   "metadata": {},
   "outputs": [
    {
     "name": "stdout",
     "output_type": "stream",
     "text": [
      "arr : \n",
      " [0 1 2 3 4]\n",
      "Shape :  (5,)\n",
      "\n",
      "deleteing arr 2 times : \n",
      " [0 1 3 4]\n",
      "Shape :  (4,)\n"
     ]
    }
   ],
   "source": [
    "import numpy as geek \n",
    "  \n",
    "#Working on 1D \n",
    "arr = geek.arange(5) \n",
    "print(\"arr : \\n\", arr) \n",
    "print(\"Shape : \", arr.shape) \n",
    "object = 2\n",
    "a = geek.delete(arr, object) \n",
    "print(\"\\ndeleteing arr 2 times : \\n\", a) \n",
    "print(\"Shape : \", a.shape) \n",
    "  "
   ]
  },
  {
   "cell_type": "code",
   "execution_count": 9,
   "metadata": {},
   "outputs": [
    {
     "name": "stdout",
     "output_type": "stream",
     "text": [
      "1D arr : \n",
      " [0 1 2 3 4]\n",
      "Shape :  (5,)\n",
      "\n",
      "Array after insertion :  [0 9 1 2 3 4]\n",
      "Shape :  (6,)\n"
     ]
    }
   ],
   "source": [
    "import numpy as geek \n",
    "arr = geek.arange(5) \n",
    "print(\"1D arr : \\n\", arr) \n",
    "print(\"Shape : \", arr.shape) \n",
    "\n",
    "# value = 9 \n",
    "# index = 1    \n",
    "# Insertion before first index \n",
    "a = geek.insert(arr, 1, 9)   #syntax insert(array_name, index, value)\n",
    "print(\"\\nArray after insertion : \", a) \n",
    "print(\"Shape : \", a.shape) \n",
    "  "
   ]
  },
  {
   "cell_type": "code",
   "execution_count": 12,
   "metadata": {},
   "outputs": [
    {
     "name": "stdout",
     "output_type": "stream",
     "text": [
      "25\n",
      "[[ 4  5  6  7]\n",
      " [ 3  2  7 10]]\n",
      "[4 5 6 7]\n",
      "[[1. 1. 1. 1. 1.]\n",
      " [1. 1. 1. 1. 1.]\n",
      " [1. 1. 1. 1. 1.]\n",
      " [1. 1. 1. 1. 1.]]\n"
     ]
    }
   ],
   "source": [
    "c = c.reshape(5,5)\n",
    "c.size     #size is an attribute not a function  =>  not callable...\n",
    "print(c.size)\n",
    "c.shape    #Shape gives you what type of matrix this is  also attribute so not callable.\n",
    "c.dtype    #dtype gives you data type. c for example is dtype('float64')\n",
    "c.itemsize  #this gives 8\n",
    "\n",
    "d = np.array([(4,5,6,7),(3,2,7,10)])    #two dimemsional array creation using np.array and syntax\n",
    "print(d)\n",
    "print(d[0])\n",
    "d<4                        ##This is sooo COOL!! \n",
    "e = np.ones((4,5))\n",
    "print(e)                ## Sooo cool, in creating matrix that is like for booleanQ"
   ]
  },
  {
   "cell_type": "code",
   "execution_count": 24,
   "metadata": {},
   "outputs": [
    {
     "name": "stdout",
     "output_type": "stream",
     "text": [
      "[[0.90084042 0.57007267 0.34937006]\n",
      " [0.57560989 0.67755363 0.16298855]]\n"
     ]
    }
   ],
   "source": [
    "g =np.random.random((2,3))   #creates 2x3 random arran for you...but not int here...this is from 0 to 1 as in probability\n",
    "print(g)"
   ]
  },
  {
   "cell_type": "code",
   "execution_count": 26,
   "metadata": {},
   "outputs": [
    {
     "name": "stdout",
     "output_type": "stream",
     "text": [
      "[73  3  3 69 23]\n"
     ]
    }
   ],
   "source": [
    "h = np.random.randint(0,100,5)\n",
    "print(h)"
   ]
  },
  {
   "cell_type": "code",
   "execution_count": 27,
   "metadata": {},
   "outputs": [
    {
     "name": "stdout",
     "output_type": "stream",
     "text": [
      "171\n"
     ]
    }
   ],
   "source": [
    "print(h.sum())"
   ]
  },
  {
   "cell_type": "code",
   "execution_count": 33,
   "metadata": {},
   "outputs": [
    {
     "name": "stdout",
     "output_type": "stream",
     "text": [
      "3\n",
      "73\n",
      "34.2\n",
      "957.76\n",
      "30.94769781421552\n"
     ]
    }
   ],
   "source": [
    "print(h.min())\n",
    "print(h.max())\n",
    "print(h.mean())\n",
    "print(h.var())   ##variance \n",
    "print(h.std())   ##Standard Deviation"
   ]
  },
  {
   "cell_type": "code",
   "execution_count": null,
   "metadata": {},
   "outputs": [],
   "source": [
    "datafile = np.loadtext()  ##16:18  https://www.youtube.com/watch?v=8Mpc9ukltVA    //genfromtxt handles errors and missing data better. "
   ]
  },
  {
   "cell_type": "code",
   "execution_count": 19,
   "metadata": {},
   "outputs": [
    {
     "name": "stdout",
     "output_type": "stream",
     "text": [
      "['_' '_' '_' '_' '_']\n",
      "_\n"
     ]
    }
   ],
   "source": [
    "import numpy as np\n",
    "letter = np.array(['_']*5)\n",
    "print(letter)\n",
    "print(letter[1])\n"
   ]
  },
  {
   "cell_type": "code",
   "execution_count": null,
   "metadata": {},
   "outputs": [],
   "source": []
  }
 ],
 "metadata": {
  "kernelspec": {
   "display_name": "Python 3",
   "language": "python",
   "name": "python3"
  },
  "language_info": {
   "codemirror_mode": {
    "name": "ipython",
    "version": 3
   },
   "file_extension": ".py",
   "mimetype": "text/x-python",
   "name": "python",
   "nbconvert_exporter": "python",
   "pygments_lexer": "ipython3",
   "version": "3.7.0"
  }
 },
 "nbformat": 4,
 "nbformat_minor": 2
}
