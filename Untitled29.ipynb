{
 "cells": [
  {
   "cell_type": "code",
   "execution_count": 19,
   "metadata": {},
   "outputs": [
    {
     "name": "stdout",
     "output_type": "stream",
     "text": [
      "Card class created!\n",
      "['AHearts', '2Hearts', '3Hearts', '4Hearts', '5Hearts', '6Hearts', '7Hearts', '8Hearts', '9Hearts', '10Hearts', 'JHearts', 'QHearts', 'KHearts', 'ADiamonds', '2Diamonds', '3Diamonds', '4Diamonds', '5Diamonds', '6Diamonds', '7Diamonds', '8Diamonds', '9Diamonds', '10Diamonds', 'JDiamonds', 'QDiamonds', 'KDiamonds', 'AClubs', '2Clubs', '3Clubs', '4Clubs', '5Clubs', '6Clubs', '7Clubs', '8Clubs', '9Clubs', '10Clubs', 'JClubs', 'QClubs', 'KClubs', 'ASpades', '2Spades', '3Spades', '4Spades', '5Spades', '6Spades', '7Spades', '8Spades', '9Spades', '10Spades', 'JSpades', 'QSpades', 'KSpades']\n",
      "['8Hearts', '5Hearts', '3Clubs', 'KHearts', '2Hearts', '4Diamonds', '2Diamonds', '7Clubs', '3Diamonds', 'JDiamonds', '7Hearts', '10Hearts', 'JClubs', 'ASpades', 'JHearts', 'JSpades', '10Clubs', 'QHearts', '4Spades', 'AHearts', 'QDiamonds', '8Spades', '5Spades', 'AClubs', '8Clubs', '6Spades', '4Hearts', '5Diamonds', '5Clubs', 'KDiamonds', '9Spades', '7Spades', 'KSpades', '6Clubs', '3Hearts', '9Clubs', '9Diamonds', '4Clubs', '10Spades', '7Diamonds', '3Spades', '9Hearts', '10Diamonds', '6Diamonds', 'KClubs', '6Hearts', '2Clubs', 'QClubs', 'QSpades', '8Diamonds', 'ADiamonds', '2Spades']\n"
     ]
    }
   ],
   "source": [
    "'''\n",
    "Create a deck of cards class. Internally, the deck of cards should use another class, a card class.\n",
    "Your requirements are:\n",
    "\n",
    "    The Deck class should have a deal method to deal a single card from the deck\n",
    "    After a card is dealt, it is removed from the deck.\n",
    "    There should be a shuffle method which makes sure the deck of cards has all 52 cards and then rearranges them randomly.\n",
    "    The Card class should have a suit (Hearts, Diamonds, Clubs, Spades) and a value (A,2,3,4,5,6,7,8,9,10,J,Q,K)\n",
    "\n",
    "For solutions to these exercises, click\n",
    "'''\n",
    "import random as rand\n",
    "\n",
    "class Cards():\n",
    "    card_deck = []\n",
    "    suit = ['Hearts', 'Diamonds', 'Clubs', 'Spades']\n",
    "    values = ['A',2,3,4,5,6,7,8,9,10,'J','Q','K']\n",
    "    \n",
    "    def __init__(self):\n",
    "        print(\"Card class created!\")\n",
    "        \n",
    "    def create_cards(self):\n",
    "        for item in Cards.suit:\n",
    "            for element in Cards.values:\n",
    "                current_card = str(element)+item\n",
    "                Cards.card_deck.append(current_card)\n",
    "        print(Cards.card_deck)\n",
    "        \n",
    "    def shuffle(self):\n",
    "        rand.shuffle(Cards.card_deck)\n",
    "        print(Cards.card_deck)\n",
    "        \n",
    "        \n",
    "                \n",
    "class DeckOfCards(Cards):\n",
    "    \n",
    "    def __init__(self):\n",
    "        pass\n",
    "    def deal(self):\n",
    "        pass\n",
    "    def shuffle(self):\n",
    "        pass\n",
    "        \n",
    "\n",
    "some_deck = Cards()\n",
    "some_deck.create_cards()\n",
    "some_deck.shuffle()\n"
   ]
  },
  {
   "cell_type": "code",
   "execution_count": 11,
   "metadata": {},
   "outputs": [
    {
     "name": "stdout",
     "output_type": "stream",
     "text": [
      "['AHearts', '2Hearts', '3Hearts', '4Hearts', '5Hearts', '6Hearts', '7Hearts', '8Hearts', '9Hearts', '10Hearts', 'JHearts', 'QHearts', 'KHearts', 'ADiamonds', '2Diamonds', '3Diamonds', '4Diamonds', '5Diamonds', '6Diamonds', '7Diamonds', '8Diamonds', '9Diamonds', '10Diamonds', 'JDiamonds', 'QDiamonds', 'KDiamonds', 'AClubs', '2Clubs', '3Clubs', '4Clubs', '5Clubs', '6Clubs', '7Clubs', '8Clubs', '9Clubs', '10Clubs', 'JClubs', 'QClubs', 'KClubs', 'ASpades', '2Spades', '3Spades', '4Spades', '5Spades', '6Spades', '7Spades', '8Spades', '9Spades', '10Spades', 'JSpades', 'QSpades', 'KSpades']\n"
     ]
    }
   ],
   "source": [
    "def create_cards():\n",
    "        card_deck = []\n",
    "        suit = ['Hearts', 'Diamonds', 'Clubs', 'Spades']\n",
    "        values = ['A',2,3,4,5,6,7,8,9,10,'J','Q','K']\n",
    "        \n",
    "        for item in suit:\n",
    "            #print(item)\n",
    "            \n",
    "            for element in values:\n",
    "                #print(element)\n",
    "                current_card = str(element)+item\n",
    "                card_deck.append(current_card)\n",
    "        print(card_deck)\n",
    "                \n",
    "create_cards()      "
   ]
  },
  {
   "cell_type": "code",
   "execution_count": 12,
   "metadata": {},
   "outputs": [
    {
     "name": "stdout",
     "output_type": "stream",
     "text": [
      "Card class created!\n"
     ]
    }
   ],
   "source": [
    "class Cards():\n",
    "    card_deck = []\n",
    "    \n",
    "    def __init__(self):\n",
    "        print(\"Card class created!\")\n",
    "        \n",
    "new_deck = Cards()"
   ]
  },
  {
   "cell_type": "code",
   "execution_count": null,
   "metadata": {},
   "outputs": [],
   "source": []
  }
 ],
 "metadata": {
  "kernelspec": {
   "display_name": "Python 3",
   "language": "python",
   "name": "python3"
  },
  "language_info": {
   "codemirror_mode": {
    "name": "ipython",
    "version": 3
   },
   "file_extension": ".py",
   "mimetype": "text/x-python",
   "name": "python",
   "nbconvert_exporter": "python",
   "pygments_lexer": "ipython3",
   "version": "3.7.0"
  }
 },
 "nbformat": 4,
 "nbformat_minor": 2
}
