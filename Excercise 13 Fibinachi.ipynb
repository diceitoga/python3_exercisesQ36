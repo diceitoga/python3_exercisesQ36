{
 "cells": [
  {
   "cell_type": "code",
   "execution_count": null,
   "metadata": {},
   "outputs": [],
   "source": [
    "#Excercise 13: Write a program that asks the user how many Fibonnaci numbers to generate and then generates them. \n",
    "#Take this opportunity to think about how you can use functions. \n",
    "#Make sure to ask the user to enter the number of numbers in the sequence to generate.\n",
    "#(Hint: The Fibonnaci seqence is a sequence of numbers \n",
    "#where the next number in the sequence is the sum of the previous two numbers in the sequence. \n",
    "#The sequence looks like this: 1, 1, 2, 3, 5, 8, 13, …)\n",
    "#n,n,n+n,n+(n+1),n+n\n",
    "\n",
    "def fib(n):\n",
    "    a, b = 0, 1\n",
    "    for _ in xrange(n):\n",
    "        yield a\n",
    "        a, b = b, a + b\n",
    "\n",
    "print list(fib(8)) #prints: [0, 1, 1, 2, 3, 5, 8, 13]\n"
   ]
  }
 ],
 "metadata": {
  "kernelspec": {
   "display_name": "Python 3",
   "language": "python",
   "name": "python3"
  },
  "language_info": {
   "codemirror_mode": {
    "name": "ipython",
    "version": 3
   },
   "file_extension": ".py",
   "mimetype": "text/x-python",
   "name": "python",
   "nbconvert_exporter": "python",
   "pygments_lexer": "ipython3",
   "version": "3.7.0"
  }
 },
 "nbformat": 4,
 "nbformat_minor": 2
}
