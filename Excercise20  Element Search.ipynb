{
 "cells": [
  {
   "cell_type": "code",
   "execution_count": 5,
   "metadata": {},
   "outputs": [
    {
     "data": {
      "text/plain": [
       "True"
      ]
     },
     "execution_count": 5,
     "metadata": {},
     "output_type": "execute_result"
    }
   ],
   "source": [
    "#Excercise 20: Element Search\n",
    "#https://www.practicepython.org \n",
    "#Write a function that takes an ordered list of numbers (a list where the elements are in order from smallest to largest) and another number. \n",
    "#The function decides whether or not the given number is inside the list and returns (then prints) \n",
    "#an appropriate boolean.   Use like b = [element for element in a if element % 2 == 0]\n",
    "\n",
    "def check_in_list(ex_list):\n",
    "    given = 5\n",
    "    c = [element for element in send_list if element ==given]\n",
    "    c = c[0]\n",
    "\n",
    "    if c ==given:\n",
    "        return True\n",
    "    else:\n",
    "        return False\n",
    "    \n",
    "###################################################################################\n",
    "send_list = [1,2,3,4,5,6,7,8,9,10,14,16,29,32,36,38,41,42,46]\n",
    "check_in_list(send_list)\n",
    "\n",
    "\n"
   ]
  },
  {
   "cell_type": "code",
   "execution_count": null,
   "metadata": {},
   "outputs": [],
   "source": []
  }
 ],
 "metadata": {
  "kernelspec": {
   "display_name": "Python 3",
   "language": "python",
   "name": "python3"
  },
  "language_info": {
   "codemirror_mode": {
    "name": "ipython",
    "version": 3
   },
   "file_extension": ".py",
   "mimetype": "text/x-python",
   "name": "python",
   "nbconvert_exporter": "python",
   "pygments_lexer": "ipython3",
   "version": "3.6.5"
  }
 },
 "nbformat": 4,
 "nbformat_minor": 2
}
