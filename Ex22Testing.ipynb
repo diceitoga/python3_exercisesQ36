{
 "cells": [
  {
   "cell_type": "code",
   "execution_count": null,
   "metadata": {},
   "outputs": [],
   "source": [
    "with open('Darth_luke.txt','r') as open_file:    ##we know this works\n",
    "    #chopping_table = open_file.read()            ##we know this works\n",
    "    \n",
    "#print(type(chopping_table))                      #we know this works and if print(chopping_table) then in prints. \n",
    "\n",
    "    line = open_file.readline()"
   ]
  }
 ],
 "metadata": {
  "kernelspec": {
   "display_name": "Python 3",
   "language": "python",
   "name": "python3"
  },
  "language_info": {
   "codemirror_mode": {
    "name": "ipython",
    "version": 3
   },
   "file_extension": ".py",
   "mimetype": "text/x-python",
   "name": "python",
   "nbconvert_exporter": "python",
   "pygments_lexer": "ipython3",
   "version": "3.7.0"
  }
 },
 "nbformat": 4,
 "nbformat_minor": 2
}
