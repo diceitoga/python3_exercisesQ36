{
 "cells": [
  {
   "cell_type": "code",
   "execution_count": null,
   "metadata": {},
   "outputs": [],
   "source": [
    "#Excercise 17: https://www.practicepython.org/exercise/2014/06/06/17-decode-a-web-page.html \n",
    "#Decode a web: This is the first 4-chili exercise of this blog! We’ll see what people think, and decide whether or not \n",
    "#to continue with 4-chili exercises in the future.\n",
    "#Use the BeautifulSoup and requests  => This is for web scraping...\n",
    "#Python packages to print out a list of all the article titles on the New York Times homepage.\n",
    "\n",
    "import bs4 as bs    ##beautifulsoup4 as bs\n",
    "import urllib.request  ##urllib module: https://docs.python.org/3/library/urllib.html  =>request is to open and read URL\n",
    "source = urlib.request.urlopen('https://').read()   ##you get source code from here.\n",
    "\n",
    "\n",
    "\n",
    "\n"
   ]
  }
 ],
 "metadata": {
  "kernelspec": {
   "display_name": "Python 3",
   "language": "python",
   "name": "python3"
  },
  "language_info": {
   "codemirror_mode": {
    "name": "ipython",
    "version": 3
   },
   "file_extension": ".py",
   "mimetype": "text/x-python",
   "name": "python",
   "nbconvert_exporter": "python",
   "pygments_lexer": "ipython3",
   "version": "3.7.0"
  }
 },
 "nbformat": 4,
 "nbformat_minor": 2
}
